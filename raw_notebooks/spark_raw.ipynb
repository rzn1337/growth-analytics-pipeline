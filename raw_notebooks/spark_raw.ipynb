{
 "cells": [
  {
   "cell_type": "code",
   "execution_count": 1,
   "id": "3d2ae9e1-8af4-4249-ab43-ca225dbd1314",
   "metadata": {},
   "outputs": [
    {
     "name": "stderr",
     "output_type": "stream",
     "text": [
      "25/08/14 07:46:21 WARN SparkSession: Using an existing Spark session; only runtime SQL configurations will take effect.\n"
     ]
    }
   ],
   "source": [
    "from pyspark.sql import SparkSession\n",
    "from pyspark.sql.functions import col, expr, current_date, to_date, lit\n",
    "spark = SparkSession.builder.appName(\"Jupyter\").getOrCreate()"
   ]
  },
  {
   "cell_type": "code",
   "execution_count": 2,
   "id": "826cc11d-4ecc-4d1c-a1ed-b8638dd08139",
   "metadata": {},
   "outputs": [
    {
     "data": {
      "text/html": [
       "\n",
       "            <div>\n",
       "                <p><b>SparkSession - in-memory</b></p>\n",
       "                \n",
       "        <div>\n",
       "            <p><b>SparkContext</b></p>\n",
       "\n",
       "            <p><a href=\"http://d89631dc4048:4041\">Spark UI</a></p>\n",
       "\n",
       "            <dl>\n",
       "              <dt>Version</dt>\n",
       "                <dd><code>v3.5.5</code></dd>\n",
       "              <dt>Master</dt>\n",
       "                <dd><code>local[*]</code></dd>\n",
       "              <dt>AppName</dt>\n",
       "                <dd><code>PySparkShell</code></dd>\n",
       "            </dl>\n",
       "        </div>\n",
       "        \n",
       "            </div>\n",
       "        "
      ],
      "text/plain": [
       "<pyspark.sql.session.SparkSession at 0x7b5782ea58a0>"
      ]
     },
     "execution_count": 2,
     "metadata": {},
     "output_type": "execute_result"
    }
   ],
   "source": [
    "spark"
   ]
  },
  {
   "cell_type": "code",
   "execution_count": 3,
   "id": "43a62a38-c78a-4420-a40e-ad6e8466b2d7",
   "metadata": {},
   "outputs": [],
   "source": [
    "# spark.conf.set(\"spark.sql.adaptive.enabled\", \"false\")\n",
    "# spark.conf.set(\"spark.sql.autoBroadcastJoinThreshold\", -1)"
   ]
  },
  {
   "cell_type": "code",
   "execution_count": 4,
   "id": "dda8040f-603c-4d13-a74b-aff2d8cf3af9",
   "metadata": {},
   "outputs": [],
   "source": [
    "billing_events = spark.read.format(\"csv\").option(\"header\", \"true\").csv(\"/home/iceberg/data/billing_events.csv\").withColumn(\"event_date\", expr(\"CAST(DATE_TRUNC('day', event_date) AS DATE)\")).select(\"subscription_id\", \"event_id\", \"event_type\", \"amount\", \"event_date\")\n",
    "subscriptions = spark.read.format(\"csv\").option(\"header\", \"true\").csv(\"/home/iceberg/data/subscriptions.csv\").select(\"subscription_id\", \"customer_id\", \"end_date\", \"plan_id\")\n",
    "customers = spark.read.format(\"csv\").option(\"header\", \"true\").csv(\"/home/iceberg/data/customers.csv\").select(\"customer_id\", \"name\", \"status\", \"signup_date\", \"country\")"
   ]
  },
  {
   "cell_type": "code",
   "execution_count": 5,
   "id": "4a2b116c-c348-4eeb-817d-177a349300dd",
   "metadata": {},
   "outputs": [
    {
     "data": {
      "text/plain": [
       "3"
      ]
     },
     "execution_count": 5,
     "metadata": {},
     "output_type": "execute_result"
    }
   ],
   "source": [
    "billing_events.rdd.getNumPartitions()"
   ]
  },
  {
   "cell_type": "code",
   "execution_count": 6,
   "id": "f5d6c703-917f-4f31-bb32-de276d0b25f1",
   "metadata": {},
   "outputs": [
    {
     "data": {
      "text/plain": [
       "1"
      ]
     },
     "execution_count": 6,
     "metadata": {},
     "output_type": "execute_result"
    }
   ],
   "source": [
    "subscriptions.rdd.getNumPartitions()"
   ]
  },
  {
   "cell_type": "code",
   "execution_count": 7,
   "id": "cf9d333f-6754-45f1-910b-377cd8f3de25",
   "metadata": {},
   "outputs": [
    {
     "data": {
      "text/plain": [
       "1"
      ]
     },
     "execution_count": 7,
     "metadata": {},
     "output_type": "execute_result"
    }
   ],
   "source": [
    "customers.rdd.getNumPartitions()"
   ]
  },
  {
   "cell_type": "code",
   "execution_count": 8,
   "id": "f1aa4e48-94a8-4b40-a489-0613f72e7121",
   "metadata": {},
   "outputs": [
    {
     "name": "stdout",
     "output_type": "stream",
     "text": [
      "== Physical Plan ==\n",
      "*(1) Project [subscription_id#18, event_id#17, event_type#19, amount#20, cast(date_trunc(day, cast(event_date#22 as timestamp), Some(Etc/UTC)) as date) AS event_date#31]\n",
      "+- FileScan csv [event_id#17,subscription_id#18,event_type#19,amount#20,event_date#22] Batched: false, DataFilters: [], Format: CSV, Location: InMemoryFileIndex(1 paths)[file:/home/iceberg/data/billing_events.csv], PartitionFilters: [], PushedFilters: [], ReadSchema: struct<event_id:string,subscription_id:string,event_type:string,amount:string,event_date:string>\n",
      "\n",
      "\n"
     ]
    }
   ],
   "source": [
    "billing_events.explain()"
   ]
  },
  {
   "cell_type": "code",
   "execution_count": 9,
   "id": "2eb65f42-ee00-4ed2-b441-e437bfd8cd63",
   "metadata": {},
   "outputs": [
    {
     "name": "stdout",
     "output_type": "stream",
     "text": [
      "+--------------------+--------------------+-----------------+------+----------+\n",
      "|     subscription_id|            event_id|       event_type|amount|event_date|\n",
      "+--------------------+--------------------+-----------------+------+----------+\n",
      "|24773376-c839-499...|3305b836-cfa8-46c...|  invoice_created|  50.0|2023-12-26|\n",
      "|24773376-c839-499...|16ce87b0-2a48-468...|payment_succeeded|  50.0|2023-12-27|\n",
      "|24773376-c839-499...|034a8ee9-745f-4fd...|  invoice_created|  50.0|2024-01-25|\n",
      "|24773376-c839-499...|f90f989d-05a2-49f...|payment_succeeded|  50.0|2024-01-28|\n",
      "|24773376-c839-499...|1c46002f-579f-415...|  invoice_created|  20.0|2024-02-24|\n",
      "|24773376-c839-499...|56bfcb32-53f0-46b...|   payment_failed|  20.0|2024-02-25|\n",
      "|e95343db-47ca-426...|a2409c65-1384-472...|  invoice_created|  20.0|2021-06-04|\n",
      "|e95343db-47ca-426...|bfaa2f89-504d-46e...|payment_succeeded|  20.0|2021-06-06|\n",
      "|e95343db-47ca-426...|b0891ca8-0a49-4ff...|  invoice_created|  20.0|2021-07-05|\n",
      "|e95343db-47ca-426...|4b296f09-ea22-4f2...|payment_succeeded|  20.0|2021-07-08|\n",
      "|e95343db-47ca-426...|56267186-0165-4cd...|  invoice_created|  20.0|2021-08-03|\n",
      "|e95343db-47ca-426...|2c7592e4-fbcf-4eb...|payment_succeeded|  20.0|2021-08-06|\n",
      "|e95343db-47ca-426...|90676188-2cc5-42a...|  invoice_created|  20.0|2021-09-02|\n",
      "|e95343db-47ca-426...|74020ac9-8a8f-467...|payment_succeeded|  20.0|2021-09-04|\n",
      "|e95343db-47ca-426...|1018c7de-22c2-4bf...|  invoice_created|  20.0|2021-10-01|\n",
      "|e95343db-47ca-426...|748b2013-07ca-46e...|   payment_failed|  20.0|2021-10-02|\n",
      "|e95343db-47ca-426...|65c82b3b-59f4-4cb...|  invoice_created|  20.0|2021-11-01|\n",
      "|e95343db-47ca-426...|7dcbbadd-cb13-410...|payment_succeeded|  20.0|2021-11-04|\n",
      "|e95343db-47ca-426...|c93b7c0c-d22d-4ed...|  invoice_created|  20.0|2021-12-01|\n",
      "|e95343db-47ca-426...|229ea4fd-1522-44f...|payment_succeeded|  20.0|2021-12-03|\n",
      "+--------------------+--------------------+-----------------+------+----------+\n",
      "only showing top 20 rows\n",
      "\n",
      "+--------------------+--------------------+----------+--------------------+\n",
      "|     subscription_id|         customer_id|  end_date|             plan_id|\n",
      "+--------------------+--------------------+----------+--------------------+\n",
      "|10b758ef-83d8-4c6...|ed43e3e4-c1f1-4d7...|2023-08-20|8e481eae-2a55-4b2...|\n",
      "|24773376-c839-499...|ed43e3e4-c1f1-4d7...|2024-03-21|c55ebfae-af13-45e...|\n",
      "|3f13eff4-fe5b-489...|ed43e3e4-c1f1-4d7...|2024-03-19|c55ebfae-af13-45e...|\n",
      "|e95343db-47ca-426...|2f421c92-c0fb-4f8...|2022-05-22|c55ebfae-af13-45e...|\n",
      "|0118ba2c-3ae8-45a...|2f421c92-c0fb-4f8...|2023-11-08|8e481eae-2a55-4b2...|\n",
      "|640c23e0-cdbe-46e...|2f421c92-c0fb-4f8...|2023-10-30|8e481eae-2a55-4b2...|\n",
      "|58626946-639e-45a...|d517e303-491e-4d0...|2024-11-19|8e481eae-2a55-4b2...|\n",
      "|5493d651-2293-44f...|d517e303-491e-4d0...|2024-12-07|8e481eae-2a55-4b2...|\n",
      "|9ba979aa-ab32-48e...|d517e303-491e-4d0...|2024-12-28|8e481eae-2a55-4b2...|\n",
      "|dfb0db96-af35-4f9...|08271e95-9b15-4dc...|2020-03-26|c55ebfae-af13-45e...|\n",
      "|9d87b391-cf47-4e5...|08271e95-9b15-4dc...|2020-07-21|c55ebfae-af13-45e...|\n",
      "|8df1b144-2b23-401...|08271e95-9b15-4dc...|2023-06-17|8e481eae-2a55-4b2...|\n",
      "|bfec57c8-7a74-4ff...|bb68309c-8f92-4c6...|2024-12-01|eb19d54f-75b5-4e5...|\n",
      "|2f5bfbfa-27dd-459...|bb68309c-8f92-4c6...|      NULL|eb19d54f-75b5-4e5...|\n",
      "|56a00b92-4c6e-4c9...|d954eddd-1209-4c8...|      NULL|eb19d54f-75b5-4e5...|\n",
      "|b8f0fbbd-3c4d-443...|551e0ae1-a27e-44f...|2023-07-01|c55ebfae-af13-45e...|\n",
      "|ca1a5751-ae42-4ee...|551e0ae1-a27e-44f...|2023-07-18|c55ebfae-af13-45e...|\n",
      "|24989a3e-d0e2-4a7...|551e0ae1-a27e-44f...|2023-07-16|c55ebfae-af13-45e...|\n",
      "|2a0fa2ba-9408-4ed...|d7435580-732d-42c...|2020-12-12|32b15e00-876d-437...|\n",
      "|8eb137dd-0941-41e...|d7435580-732d-42c...|2022-11-20|32b15e00-876d-437...|\n",
      "+--------------------+--------------------+----------+--------------------+\n",
      "only showing top 20 rows\n",
      "\n",
      "+--------------------+-------------------+------+-----------+--------------+\n",
      "|         customer_id|               name|status|signup_date|       country|\n",
      "+--------------------+-------------------+------+-----------+--------------+\n",
      "|ed43e3e4-c1f1-4d7...|         Brian Yang|active| 2023-08-02| United States|\n",
      "|2f421c92-c0fb-4f8...|   Jonathan Johnson|active| 2021-05-16|        France|\n",
      "|d517e303-491e-4d0...|      Kevin Pacheco|active| 2023-10-17|United Kingdom|\n",
      "|08271e95-9b15-4dc...|Christopher Bernard|active| 2020-03-06|United Kingdom|\n",
      "|bb68309c-8f92-4c6...|      Lindsey Roman|active| 2022-10-31| United States|\n",
      "|d954eddd-1209-4c8...|  Sandra Montgomery|active| 2024-01-06|   South Korea|\n",
      "|551e0ae1-a27e-44f...|       Dylan Miller|active| 2023-04-21| United States|\n",
      "|d7435580-732d-42c...|         Holly Wood|active| 2020-11-22|         Spain|\n",
      "|bf9d266e-2162-469...|       Lisa Jackson|active| 2021-03-16|       Germany|\n",
      "|88cc8a7f-1ce8-48f...|     Colleen Nguyen|active| 2020-07-17|         Italy|\n",
      "|de89b3e6-997a-4ab...|      Austin Gentry|active| 2024-07-10|     Singapore|\n",
      "|ae362399-319d-48d...|       Derek Wright|active| 2022-02-14|       Denmark|\n",
      "|ecc8e572-9b07-493...|     Zachary Taylor|active| 2023-06-20|   Netherlands|\n",
      "|266c14c7-c9d4-41d...| Christopher Becker|banned| 2020-04-03|       Denmark|\n",
      "|21f2ae34-11a8-48a...|    Tricia Valencia|active| 2024-10-17|       Germany|\n",
      "|8e2bb238-3b95-445...|  Patricia Peterson|active| 2022-07-17|         Italy|\n",
      "|0f328457-d07a-4bc...|      Deborah Mason|active| 2021-12-28|        Norway|\n",
      "|68c30a12-560c-417...|         Mark Lynch|active| 2023-10-31|United Kingdom|\n",
      "|e58e6418-0483-4e4...|        Linda Burns|active| 2020-12-16|        Sweden|\n",
      "|d46363d0-099f-46d...|      David Bradley|active| 2022-02-16|        Sweden|\n",
      "+--------------------+-------------------+------+-----------+--------------+\n",
      "only showing top 20 rows\n",
      "\n"
     ]
    }
   ],
   "source": [
    "billing_events.show()\n",
    "subscriptions.show()\n",
    "customers.show()"
   ]
  },
  {
   "cell_type": "code",
   "execution_count": 10,
   "id": "13704bbe-ef34-4c65-aa24-a2404d9cd4b9",
   "metadata": {},
   "outputs": [],
   "source": [
    "df = billing_events.join(subscriptions, on=\"subscription_id\", how=\"inner\").join(customers, on=\"customer_id\", how=\"inner\")"
   ]
  },
  {
   "cell_type": "code",
   "execution_count": 11,
   "id": "8ff5bc5d-64ad-40fc-9b75-f825c83ea9b4",
   "metadata": {},
   "outputs": [
    {
     "data": {
      "text/plain": [
       "3"
      ]
     },
     "execution_count": 11,
     "metadata": {},
     "output_type": "execute_result"
    }
   ],
   "source": [
    "df.rdd.getNumPartitions()"
   ]
  },
  {
   "cell_type": "code",
   "execution_count": 12,
   "id": "d0a62c14-c86e-499f-a9ff-af97faad740e",
   "metadata": {},
   "outputs": [
    {
     "name": "stdout",
     "output_type": "stream",
     "text": [
      "+--------------------+--------------------+--------------------+-----------------+------+----------+----------+--------------------+----------------+------+-----------+-------------+\n",
      "|         customer_id|     subscription_id|            event_id|       event_type|amount|event_date|  end_date|             plan_id|            name|status|signup_date|      country|\n",
      "+--------------------+--------------------+--------------------+-----------------+------+----------+----------+--------------------+----------------+------+-----------+-------------+\n",
      "|ed43e3e4-c1f1-4d7...|24773376-c839-499...|3305b836-cfa8-46c...|  invoice_created|  50.0|2023-12-26|2024-03-21|c55ebfae-af13-45e...|      Brian Yang|active| 2023-08-02|United States|\n",
      "|ed43e3e4-c1f1-4d7...|24773376-c839-499...|16ce87b0-2a48-468...|payment_succeeded|  50.0|2023-12-27|2024-03-21|c55ebfae-af13-45e...|      Brian Yang|active| 2023-08-02|United States|\n",
      "|ed43e3e4-c1f1-4d7...|24773376-c839-499...|034a8ee9-745f-4fd...|  invoice_created|  50.0|2024-01-25|2024-03-21|c55ebfae-af13-45e...|      Brian Yang|active| 2023-08-02|United States|\n",
      "|ed43e3e4-c1f1-4d7...|24773376-c839-499...|f90f989d-05a2-49f...|payment_succeeded|  50.0|2024-01-28|2024-03-21|c55ebfae-af13-45e...|      Brian Yang|active| 2023-08-02|United States|\n",
      "|ed43e3e4-c1f1-4d7...|24773376-c839-499...|1c46002f-579f-415...|  invoice_created|  20.0|2024-02-24|2024-03-21|c55ebfae-af13-45e...|      Brian Yang|active| 2023-08-02|United States|\n",
      "|ed43e3e4-c1f1-4d7...|24773376-c839-499...|56bfcb32-53f0-46b...|   payment_failed|  20.0|2024-02-25|2024-03-21|c55ebfae-af13-45e...|      Brian Yang|active| 2023-08-02|United States|\n",
      "|2f421c92-c0fb-4f8...|e95343db-47ca-426...|a2409c65-1384-472...|  invoice_created|  20.0|2021-06-04|2022-05-22|c55ebfae-af13-45e...|Jonathan Johnson|active| 2021-05-16|       France|\n",
      "|2f421c92-c0fb-4f8...|e95343db-47ca-426...|bfaa2f89-504d-46e...|payment_succeeded|  20.0|2021-06-06|2022-05-22|c55ebfae-af13-45e...|Jonathan Johnson|active| 2021-05-16|       France|\n",
      "|2f421c92-c0fb-4f8...|e95343db-47ca-426...|b0891ca8-0a49-4ff...|  invoice_created|  20.0|2021-07-05|2022-05-22|c55ebfae-af13-45e...|Jonathan Johnson|active| 2021-05-16|       France|\n",
      "|2f421c92-c0fb-4f8...|e95343db-47ca-426...|4b296f09-ea22-4f2...|payment_succeeded|  20.0|2021-07-08|2022-05-22|c55ebfae-af13-45e...|Jonathan Johnson|active| 2021-05-16|       France|\n",
      "|2f421c92-c0fb-4f8...|e95343db-47ca-426...|56267186-0165-4cd...|  invoice_created|  20.0|2021-08-03|2022-05-22|c55ebfae-af13-45e...|Jonathan Johnson|active| 2021-05-16|       France|\n",
      "|2f421c92-c0fb-4f8...|e95343db-47ca-426...|2c7592e4-fbcf-4eb...|payment_succeeded|  20.0|2021-08-06|2022-05-22|c55ebfae-af13-45e...|Jonathan Johnson|active| 2021-05-16|       France|\n",
      "|2f421c92-c0fb-4f8...|e95343db-47ca-426...|90676188-2cc5-42a...|  invoice_created|  20.0|2021-09-02|2022-05-22|c55ebfae-af13-45e...|Jonathan Johnson|active| 2021-05-16|       France|\n",
      "|2f421c92-c0fb-4f8...|e95343db-47ca-426...|74020ac9-8a8f-467...|payment_succeeded|  20.0|2021-09-04|2022-05-22|c55ebfae-af13-45e...|Jonathan Johnson|active| 2021-05-16|       France|\n",
      "|2f421c92-c0fb-4f8...|e95343db-47ca-426...|1018c7de-22c2-4bf...|  invoice_created|  20.0|2021-10-01|2022-05-22|c55ebfae-af13-45e...|Jonathan Johnson|active| 2021-05-16|       France|\n",
      "|2f421c92-c0fb-4f8...|e95343db-47ca-426...|748b2013-07ca-46e...|   payment_failed|  20.0|2021-10-02|2022-05-22|c55ebfae-af13-45e...|Jonathan Johnson|active| 2021-05-16|       France|\n",
      "|2f421c92-c0fb-4f8...|e95343db-47ca-426...|65c82b3b-59f4-4cb...|  invoice_created|  20.0|2021-11-01|2022-05-22|c55ebfae-af13-45e...|Jonathan Johnson|active| 2021-05-16|       France|\n",
      "|2f421c92-c0fb-4f8...|e95343db-47ca-426...|7dcbbadd-cb13-410...|payment_succeeded|  20.0|2021-11-04|2022-05-22|c55ebfae-af13-45e...|Jonathan Johnson|active| 2021-05-16|       France|\n",
      "|2f421c92-c0fb-4f8...|e95343db-47ca-426...|c93b7c0c-d22d-4ed...|  invoice_created|  20.0|2021-12-01|2022-05-22|c55ebfae-af13-45e...|Jonathan Johnson|active| 2021-05-16|       France|\n",
      "|2f421c92-c0fb-4f8...|e95343db-47ca-426...|229ea4fd-1522-44f...|payment_succeeded|  20.0|2021-12-03|2022-05-22|c55ebfae-af13-45e...|Jonathan Johnson|active| 2021-05-16|       France|\n",
      "+--------------------+--------------------+--------------------+-----------------+------+----------+----------+--------------------+----------------+------+-----------+-------------+\n",
      "only showing top 20 rows\n",
      "\n"
     ]
    }
   ],
   "source": [
    "df.show()"
   ]
  },
  {
   "cell_type": "code",
   "execution_count": 13,
   "id": "649a337c-f33b-4ab5-8b9d-40b8038839ee",
   "metadata": {},
   "outputs": [
    {
     "name": "stdout",
     "output_type": "stream",
     "text": [
      "== Physical Plan ==\n",
      "AdaptiveSparkPlan isFinalPlan=false\n",
      "+- Project [customer_id#63, subscription_id#18, event_id#17, event_type#19, amount#20, event_date#31, end_date#66, plan_id#64, name#101, status#104, signup_date#102, country#103]\n",
      "   +- BroadcastHashJoin [customer_id#63], [customer_id#98], Inner, BuildRight, false\n",
      "      :- Project [subscription_id#18, event_id#17, event_type#19, amount#20, event_date#31, customer_id#63, end_date#66, plan_id#64]\n",
      "      :  +- BroadcastHashJoin [subscription_id#18], [subscription_id#62], Inner, BuildRight, false\n",
      "      :     :- Project [subscription_id#18, event_id#17, event_type#19, amount#20, cast(date_trunc(day, cast(event_date#22 as timestamp), Some(Etc/UTC)) as date) AS event_date#31]\n",
      "      :     :  +- Filter isnotnull(subscription_id#18)\n",
      "      :     :     +- FileScan csv [event_id#17,subscription_id#18,event_type#19,amount#20,event_date#22] Batched: false, DataFilters: [isnotnull(subscription_id#18)], Format: CSV, Location: InMemoryFileIndex(1 paths)[file:/home/iceberg/data/billing_events.csv], PartitionFilters: [], PushedFilters: [IsNotNull(subscription_id)], ReadSchema: struct<event_id:string,subscription_id:string,event_type:string,amount:string,event_date:string>\n",
      "      :     +- BroadcastExchange HashedRelationBroadcastMode(List(input[0, string, false]),false), [plan_id=438]\n",
      "      :        +- Filter (isnotnull(subscription_id#62) AND isnotnull(customer_id#63))\n",
      "      :           +- FileScan csv [subscription_id#62,customer_id#63,plan_id#64,end_date#66] Batched: false, DataFilters: [isnotnull(subscription_id#62), isnotnull(customer_id#63)], Format: CSV, Location: InMemoryFileIndex(1 paths)[file:/home/iceberg/data/subscriptions.csv], PartitionFilters: [], PushedFilters: [IsNotNull(subscription_id), IsNotNull(customer_id)], ReadSchema: struct<subscription_id:string,customer_id:string,plan_id:string,end_date:string>\n",
      "      +- BroadcastExchange HashedRelationBroadcastMode(List(input[0, string, false]),false), [plan_id=442]\n",
      "         +- Filter isnotnull(customer_id#98)\n",
      "            +- FileScan csv [customer_id#98,name#101,signup_date#102,country#103,status#104] Batched: false, DataFilters: [isnotnull(customer_id#98)], Format: CSV, Location: InMemoryFileIndex(1 paths)[file:/home/iceberg/data/customers.csv], PartitionFilters: [], PushedFilters: [IsNotNull(customer_id)], ReadSchema: struct<customer_id:string,name:string,signup_date:string,country:string,status:string>\n",
      "\n",
      "\n"
     ]
    }
   ],
   "source": [
    "billing_events.join(subscriptions, on=\"subscription_id\", how=\"inner\").join(customers, on=\"customer_id\", how=\"inner\").explain()"
   ]
  },
  {
   "cell_type": "code",
   "execution_count": 14,
   "id": "d249e0ef-a410-445b-a1a0-bbec36a112e8",
   "metadata": {},
   "outputs": [],
   "source": [
    "# spark.conf.set(\"spark.sql.autoBroadcastJoinThreshold\", 10485760)  # default is 10MB"
   ]
  },
  {
   "cell_type": "code",
   "execution_count": 15,
   "id": "aa20a3e4-4339-4119-b514-42be95d75faa",
   "metadata": {},
   "outputs": [
    {
     "data": {
      "text/html": [
       "<table>\n",
       "    <thead>\n",
       "        <tr>\n",
       "        </tr>\n",
       "    </thead>\n",
       "    <tbody>\n",
       "    </tbody>\n",
       "</table>"
      ],
      "text/plain": [
       "++\n",
       "||\n",
       "++\n",
       "++"
      ]
     },
     "execution_count": 15,
     "metadata": {},
     "output_type": "execute_result"
    }
   ],
   "source": [
    "%%sql\n",
    "\n",
    "CREATE DATABASE IF NOT EXISTS saas"
   ]
  },
  {
   "cell_type": "code",
   "execution_count": 16,
   "id": "b63aebb6-a5f4-4791-9efd-af51440c889e",
   "metadata": {},
   "outputs": [
    {
     "data": {
      "text/html": [
       "<table>\n",
       "    <thead>\n",
       "        <tr>\n",
       "        </tr>\n",
       "    </thead>\n",
       "    <tbody>\n",
       "    </tbody>\n",
       "</table>"
      ],
      "text/plain": [
       "++\n",
       "||\n",
       "++\n",
       "++"
      ]
     },
     "execution_count": 16,
     "metadata": {},
     "output_type": "execute_result"
    }
   ],
   "source": [
    "%%sql\n",
    "\n",
    "CREATE TABLE IF NOT EXISTS saas.fct_billing_events (\n",
    "    customer_id STRING,\n",
    "    dim_name STRING,\n",
    "    dim_customer_status STRING,\n",
    "    dim_signup_date DATE,\n",
    "    dim_subscription_end_date DATE,\n",
    "    subscription_id STRING,\n",
    "    event_id STRING,\n",
    "    dim_event_type STRING,\n",
    "    m_amount DOUBLE,\n",
    "    plan_id STRING,\n",
    "    dim_event_date DATE,\n",
    "    dim_country STRING,\n",
    "    month_start DATE,\n",
    "    ds DATE\n",
    ") \n",
    "USING iceberg\n",
    "PARTITIONED BY (months(dim_event_date));"
   ]
  },
  {
   "cell_type": "code",
   "execution_count": 17,
   "id": "59d31d91-f0de-4349-9238-17002e16ab5e",
   "metadata": {},
   "outputs": [
    {
     "data": {
      "text/html": [
       "<table>\n",
       "    <thead>\n",
       "        <tr>\n",
       "        </tr>\n",
       "    </thead>\n",
       "    <tbody>\n",
       "    </tbody>\n",
       "</table>"
      ],
      "text/plain": [
       "++\n",
       "||\n",
       "++\n",
       "++"
      ]
     },
     "execution_count": 17,
     "metadata": {},
     "output_type": "execute_result"
    }
   ],
   "source": [
    "%%sql\n",
    "\n",
    "CREATE TABLE IF NOT EXISTS saas.fct_billing_events_unsorted (\n",
    "    customer_id STRING,\n",
    "    dim_name STRING,\n",
    "    dim_customer_status STRING,\n",
    "    dim_signup_date DATE,\n",
    "    dim_subscription_end_date DATE,\n",
    "    subscription_id STRING,\n",
    "    event_id STRING,\n",
    "    dim_event_type STRING,\n",
    "    m_amount DOUBLE,\n",
    "    plan_id STRING,\n",
    "    dim_event_date DATE,\n",
    "    dim_country STRING,\n",
    "    month_start DATE,\n",
    "    ds DATE\n",
    ") \n",
    "USING iceberg\n",
    "PARTITIONED BY (months(dim_event_date));"
   ]
  },
  {
   "cell_type": "code",
   "execution_count": 18,
   "id": "9e16d22c-2f37-4eec-85cd-fdbe68e34df7",
   "metadata": {},
   "outputs": [],
   "source": [
    "df_new = df.select(\n",
    "    col(\"customer_id\"),\n",
    "    col(\"name\").alias(\"dim_name\"),\n",
    "    col(\"status\").alias(\"dim_customer_status\"),\n",
    "    col(\"signup_date\").cast(\"date\").alias(\"dim_signup_date\"),\n",
    "    col(\"end_date\").cast(\"date\").alias(\"dim_subscription_end_date\"),\n",
    "    col(\"subscription_id\"),\n",
    "    col(\"event_id\"),\n",
    "    col(\"event_type\").alias(\"dim_event_type\"),\n",
    "    col(\"amount\").cast(\"double\").alias(\"m_amount\"),\n",
    "    col(\"plan_id\"),\n",
    "    to_date(col(\"event_date\"), \"yyyy-MM-dd\").alias(\"dim_event_date\"),\n",
    "    col(\"country\").alias(\"dim_country\"),\n",
    "    expr(\"CAST(DATE_TRUNC('month', event_date) AS DATE)\").alias(\"month_start\"),\n",
    "    current_date().alias(\"ds\")\n",
    ")"
   ]
  },
  {
   "cell_type": "code",
   "execution_count": 19,
   "id": "14b64885-b53e-4fb1-923e-3988ffc84b86",
   "metadata": {},
   "outputs": [],
   "source": [
    "# spark.conf.set(\"spark.sql.adaptive.enabled\", \"true\")"
   ]
  },
  {
   "cell_type": "code",
   "execution_count": 20,
   "id": "fb678b2f-39f5-4134-8d5c-fba66b4526df",
   "metadata": {},
   "outputs": [],
   "source": [
    "df_new = df_new.repartition(expr(\"date_trunc('month', dim_event_date)\"))"
   ]
  },
  {
   "cell_type": "code",
   "execution_count": 21,
   "id": "9f5a3625-131d-4145-807f-bd0338e01b62",
   "metadata": {},
   "outputs": [
    {
     "name": "stderr",
     "output_type": "stream",
     "text": [
      "[Stage 13:===================>                                      (1 + 2) / 3]"
     ]
    },
    {
     "data": {
      "text/plain": [
       "7"
      ]
     },
     "execution_count": 21,
     "metadata": {},
     "output_type": "execute_result"
    }
   ],
   "source": [
    "df_new.rdd.getNumPartitions()"
   ]
  },
  {
   "cell_type": "code",
   "execution_count": 22,
   "id": "e0cbee34-9409-4e37-b779-a4eef430ae86",
   "metadata": {},
   "outputs": [],
   "source": [
    "df_sorted = df_new.sortWithinPartitions(col(\"dim_event_type\"), col(\"dim_customer_status\"), col(\"month_start\"))"
   ]
  },
  {
   "cell_type": "code",
   "execution_count": 23,
   "id": "d0844285-ead7-4856-b3bb-83ff92a0ad84",
   "metadata": {},
   "outputs": [],
   "source": [
    "# df_sorted = df_new.sortWithinPartitions(col(\"dim_event_type\"), col(\"dim_customer_status\"), )\n",
    "# df_new.write.mode(\"overwrite\").saveAsTable(\"saas.fct_billing_events_unsorted\")\n",
    "# df_sorted.write.mode(\"overwrite\").saveAsTable(\"saas.fct_billing_events\")"
   ]
  },
  {
   "cell_type": "code",
   "execution_count": 24,
   "id": "74146b73-3c05-431c-b22e-9d3aa7c64199",
   "metadata": {},
   "outputs": [
    {
     "name": "stderr",
     "output_type": "stream",
     "text": [
      "                                                                                "
     ]
    }
   ],
   "source": [
    "# Option B: DataFrame API with Iceberg-specific writeTo\n",
    "(df_sorted\n",
    "   .writeTo(\"saas.fct_billing_events\")\n",
    "   .overwritePartitions()       # for full overwrite\n",
    "   # .append()                  # if you just want to add new data\n",
    ")"
   ]
  },
  {
   "cell_type": "code",
   "execution_count": 25,
   "id": "d7f062bb-da8c-4ce3-8b53-3676e97197e2",
   "metadata": {},
   "outputs": [],
   "source": [
    "# Option B: DataFrame API with Iceberg-specific writeTo\n",
    "(df_new\n",
    "   .writeTo(\"saas.fct_billing_events_unsorted\")\n",
    "   .overwritePartitions()       # for full overwrite\n",
    "   # .append()                  # if you just want to add new data\n",
    ")"
   ]
  },
  {
   "cell_type": "code",
   "execution_count": 26,
   "id": "a463d0fd-39eb-4299-a9d8-e8d3a9fd9de7",
   "metadata": {},
   "outputs": [
    {
     "name": "stdout",
     "output_type": "stream",
     "text": [
      "+-------------------+---------------+--------------+\n",
      "|dim_customer_status| dim_event_type|dim_event_date|\n",
      "+-------------------+---------------+--------------+\n",
      "|             active|invoice_created|    2020-01-21|\n",
      "|             active|invoice_created|    2020-01-22|\n",
      "|             active|invoice_created|    2020-01-30|\n",
      "|             active|invoice_created|    2020-01-29|\n",
      "|             active|invoice_created|    2020-01-30|\n",
      "+-------------------+---------------+--------------+\n",
      "only showing top 5 rows\n",
      "\n"
     ]
    }
   ],
   "source": [
    "df_sorted.select(col(\"dim_customer_status\"), col(\"dim_event_type\"), col(\"dim_event_date\")).show(5)"
   ]
  },
  {
   "cell_type": "code",
   "execution_count": 27,
   "id": "b87711f6-c6b7-430f-9b90-30471c2939ea",
   "metadata": {},
   "outputs": [
    {
     "data": {
      "text/html": [
       "<table>\n",
       "    <thead>\n",
       "        <tr>\n",
       "            <th>size</th>\n",
       "            <th>sorted</th>\n",
       "        </tr>\n",
       "    </thead>\n",
       "    <tbody>\n",
       "        <tr>\n",
       "            <td>3696931</td>\n",
       "            <td>sorted</td>\n",
       "        </tr>\n",
       "        <tr>\n",
       "            <td>3727141</td>\n",
       "            <td>unsorted</td>\n",
       "        </tr>\n",
       "    </tbody>\n",
       "</table>"
      ],
      "text/plain": [
       "+---------+----------+\n",
       "|    size |   sorted |\n",
       "+---------+----------+\n",
       "| 3696931 |   sorted |\n",
       "| 3727141 | unsorted |\n",
       "+---------+----------+"
      ]
     },
     "execution_count": 27,
     "metadata": {},
     "output_type": "execute_result"
    }
   ],
   "source": [
    "%%sql\n",
    "\n",
    "SELECT SUM(file_size_in_bytes) AS size, 'sorted'\n",
    "FROM saas.fct_billing_events.files\n",
    "\n",
    "UNION ALL\n",
    "\n",
    "SELECT SUM(file_size_in_bytes) AS size, 'unsorted'\n",
    "FROM saas.fct_billing_events_unsorted.files"
   ]
  },
  {
   "cell_type": "code",
   "execution_count": 29,
   "id": "4378d455-179b-4f4a-b7e9-b1ce2d987ba6",
   "metadata": {},
   "outputs": [
    {
     "data": {
      "text/html": [
       "<table>\n",
       "    <thead>\n",
       "        <tr>\n",
       "            <th>content</th>\n",
       "            <th>file_path</th>\n",
       "            <th>file_format</th>\n",
       "            <th>spec_id</th>\n",
       "            <th>partition</th>\n",
       "            <th>record_count</th>\n",
       "            <th>file_size_in_bytes</th>\n",
       "            <th>column_sizes</th>\n",
       "            <th>value_counts</th>\n",
       "            <th>null_value_counts</th>\n",
       "            <th>nan_value_counts</th>\n",
       "            <th>lower_bounds</th>\n",
       "            <th>upper_bounds</th>\n",
       "            <th>key_metadata</th>\n",
       "            <th>split_offsets</th>\n",
       "            <th>equality_ids</th>\n",
       "            <th>sort_order_id</th>\n",
       "            <th>referenced_data_file</th>\n",
       "            <th>content_offset</th>\n",
       "            <th>content_size_in_bytes</th>\n",
       "            <th>readable_metrics</th>\n",
       "        </tr>\n",
       "    </thead>\n",
       "    <tbody>\n",
       "        <tr>\n",
       "            <td>0</td>\n",
       "            <td>s3://warehouse/saas/fct_billing_events/data/dim_event_date_month=2022-10/00000-28-d51a1584-e62b-490d-92e4-17defb6e3437-0-00003.parquet</td>\n",
       "            <td>PARQUET</td>\n",
       "            <td>0</td>\n",
       "            <td>Row(dim_event_date_month=633)</td>\n",
       "            <td>1327</td>\n",
       "            <td>75690</td>\n",
       "            <td>{1: 14378, 2: 6401, 3: 134, 4: 2655, 5: 2421, 6: 14697, 7: 26950, 8: 155, 9: 746, 10: 646, 11: 978, 12: 1060, 13: 80, 14: 73}</td>\n",
       "            <td>{1: 1327, 2: 1327, 3: 1327, 4: 1327, 5: 1327, 6: 1327, 7: 1327, 8: 1327, 9: 1327, 10: 1327, 11: 1327, 12: 1327, 13: 1327, 14: 1327}</td>\n",
       "            <td>{1: 0, 2: 0, 3: 0, 4: 0, 5: 157, 6: 0, 7: 0, 8: 0, 9: 0, 10: 0, 11: 0, 12: 0, 13: 0, 14: 0}</td>\n",
       "            <td>{9: 0}</td>\n",
       "            <td>{1: bytearray(b&#x27;0005385d-26ae-46&#x27;), 2: bytearray(b&#x27;Abigail Case&#x27;), 3: bytearray(b&#x27;active&#x27;), 4: bytearray(b&#x27;WG\\x00\\x00&#x27;), 5: bytearray(b&#x27;SK\\x00\\x00&#x27;), 6: bytearray(b&#x27;000613e1-4efd-42&#x27;), 7: bytearray(b&#x27;00181c60-d230-4e&#x27;), 8: bytearray(b&#x27;invoice_created&#x27;), 9: bytearray(b&#x27;\\x85\\xebQ\\xb8\\x1eUW\\xc0&#x27;), 10: bytearray(b&#x27;2e320402-1f28-49&#x27;), 11: bytearray(b&#x27;BK\\x00\\x00&#x27;), 12: bytearray(b&#x27;Australia&#x27;), 13: bytearray(b&#x27;BK\\x00\\x00&#x27;), 14: bytearray(b&#x27;UO\\x00\\x00&#x27;)}</td>\n",
       "            <td>{1: bytearray(b&#x27;ffb597d8-a10d-46&#x27;), 2: bytearray(b&#x27;Yolanda Mccoy&#x27;), 3: bytearray(b&#x27;inactive&#x27;), 4: bytearray(b&#x27;PK\\x00\\x00&#x27;), 5: bytearray(b&#x27;{O\\x00\\x00&#x27;), 6: bytearray(b&#x27;ff9abfdb-cc0c-44&#x27;), 7: bytearray(b&#x27;fffc00bc-f8f0-45&#x27;), 8: bytearray(b&#x27;refund&#x27;), 9: bytearray(b&#x27;\\xf6(\\\\\\x8f\\xc2\\x8d\\x90@&#x27;), 10: bytearray(b&#x27;eb19d54f-75b5-4f&#x27;), 11: bytearray(b&#x27;`K\\x00\\x00&#x27;), 12: bytearray(b&#x27;United States&#x27;), 13: bytearray(b&#x27;BK\\x00\\x00&#x27;), 14: bytearray(b&#x27;UO\\x00\\x00&#x27;)}</td>\n",
       "            <td>None</td>\n",
       "            <td>[4]</td>\n",
       "            <td>None</td>\n",
       "            <td>0</td>\n",
       "            <td>None</td>\n",
       "            <td>None</td>\n",
       "            <td>None</td>\n",
       "            <td>Row(customer_id=Row(column_size=14378, value_count=1327, null_value_count=0, nan_value_count=None, lower_bound=&#x27;0005385d-26ae-46&#x27;, upper_bound=&#x27;ffb597d8-a10d-46&#x27;), dim_country=Row(column_size=1060, value_count=1327, null_value_count=0, nan_value_count=None, lower_bound=&#x27;Australia&#x27;, upper_bound=&#x27;United States&#x27;), dim_customer_status=Row(column_size=134, value_count=1327, null_value_count=0, nan_value_count=None, lower_bound=&#x27;active&#x27;, upper_bound=&#x27;inactive&#x27;), dim_event_date=Row(column_size=978, value_count=1327, null_value_count=0, nan_value_count=None, lower_bound=datetime.date(2022, 10, 1), upper_bound=datetime.date(2022, 10, 31)), dim_event_type=Row(column_size=155, value_count=1327, null_value_count=0, nan_value_count=None, lower_bound=&#x27;invoice_created&#x27;, upper_bound=&#x27;refund&#x27;), dim_name=Row(column_size=6401, value_count=1327, null_value_count=0, nan_value_count=None, lower_bound=&#x27;Abigail Case&#x27;, upper_bound=&#x27;Yolanda Mccoy&#x27;), dim_signup_date=Row(column_size=2655, value_count=1327, null_value_count=0, nan_value_count=None, lower_bound=datetime.date(2020, 1, 2), upper_bound=datetime.date(2022, 10, 15)), dim_subscription_end_date=Row(column_size=2421, value_count=1327, null_value_count=157, nan_value_count=None, lower_bound=datetime.date(2022, 10, 18), upper_bound=datetime.date(2025, 9, 16)), ds=Row(column_size=73, value_count=1327, null_value_count=0, nan_value_count=None, lower_bound=datetime.date(2025, 8, 9), upper_bound=datetime.date(2025, 8, 9)), event_id=Row(column_size=26950, value_count=1327, null_value_count=0, nan_value_count=None, lower_bound=&#x27;00181c60-d230-4e&#x27;, upper_bound=&#x27;fffc00bc-f8f0-45&#x27;), m_amount=Row(column_size=746, value_count=1327, null_value_count=0, nan_value_count=0, lower_bound=-93.33, upper_bound=1059.44), month_start=Row(column_size=80, value_count=1327, null_value_count=0, nan_value_count=None, lower_bound=datetime.date(2022, 10, 1), upper_bound=datetime.date(2022, 10, 1)), plan_id=Row(column_size=646, value_count=1327, null_value_count=0, nan_value_count=None, lower_bound=&#x27;2e320402-1f28-49&#x27;, upper_bound=&#x27;eb19d54f-75b5-4f&#x27;), subscription_id=Row(column_size=14697, value_count=1327, null_value_count=0, nan_value_count=None, lower_bound=&#x27;000613e1-4efd-42&#x27;, upper_bound=&#x27;ff9abfdb-cc0c-44&#x27;))</td>\n",
       "        </tr>\n",
       "        <tr>\n",
       "            <td>0</td>\n",
       "            <td>s3://warehouse/saas/fct_billing_events/data/dim_event_date_month=2020-02/00000-28-d51a1584-e62b-490d-92e4-17defb6e3437-0-00004.parquet</td>\n",
       "            <td>PARQUET</td>\n",
       "            <td>0</td>\n",
       "            <td>Row(dim_event_date_month=601)</td>\n",
       "            <td>78</td>\n",
       "            <td>9970</td>\n",
       "            <td>{1: 939, 2: 559, 3: 103, 4: 183, 5: 248, 6: 954, 7: 1615, 8: 155, 9: 157, 10: 257, 11: 192, 12: 240, 13: 81, 14: 73}</td>\n",
       "            <td>{1: 78, 2: 78, 3: 78, 4: 78, 5: 78, 6: 78, 7: 78, 8: 78, 9: 78, 10: 78, 11: 78, 12: 78, 13: 78, 14: 78}</td>\n",
       "            <td>{1: 0, 2: 0, 3: 0, 4: 0, 5: 2, 6: 0, 7: 0, 8: 0, 9: 0, 10: 0, 11: 0, 12: 0, 13: 0, 14: 0}</td>\n",
       "            <td>{9: 0}</td>\n",
       "            <td>{1: bytearray(b&#x27;134aec7a-34bf-45&#x27;), 2: bytearray(b&#x27;Andrew Romero&#x27;), 3: bytearray(b&#x27;active&#x27;), 4: bytearray(b&#x27;WG\\x00\\x00&#x27;), 5: bytearray(b&#x27;\\xaeG\\x00\\x00&#x27;), 6: bytearray(b&#x27;07c182e1-8134-47&#x27;), 7: bytearray(b&#x27;02c58580-9869-42&#x27;), 8: bytearray(b&#x27;invoice_created&#x27;), 9: bytearray(b&#x27;\\xecQ\\xb8\\x1e\\x85k)\\xc0&#x27;), 10: bytearray(b&#x27;2e320402-1f28-49&#x27;), 11: bytearray(b&#x27;uG\\x00\\x00&#x27;), 12: bytearray(b&#x27;Canada&#x27;), 13: bytearray(b&#x27;uG\\x00\\x00&#x27;), 14: bytearray(b&#x27;UO\\x00\\x00&#x27;)}</td>\n",
       "            <td>{1: bytearray(b&#x27;fc163145-d095-43&#x27;), 2: bytearray(b&#x27;Victor Holden&#x27;), 3: bytearray(b&#x27;inactive&#x27;), 4: bytearray(b&#x27;\\x80G\\x00\\x00&#x27;), 5: bytearray(b&#x27;\\xb4K\\x00\\x00&#x27;), 6: bytearray(b&#x27;ffd0896e-86da-4c&#x27;), 7: bytearray(b&#x27;fbe5de68-8815-46&#x27;), 8: bytearray(b&#x27;refund&#x27;), 9: bytearray(b&#x27;\\xf6(\\\\\\x8f\\xc2\\x8d\\x90@&#x27;), 10: bytearray(b&#x27;eb19d54f-75b5-4f&#x27;), 11: bytearray(b&#x27;\\x91G\\x00\\x00&#x27;), 12: bytearray(b&#x27;United States&#x27;), 13: bytearray(b&#x27;uG\\x00\\x00&#x27;), 14: bytearray(b&#x27;UO\\x00\\x00&#x27;)}</td>\n",
       "            <td>None</td>\n",
       "            <td>[4]</td>\n",
       "            <td>None</td>\n",
       "            <td>0</td>\n",
       "            <td>None</td>\n",
       "            <td>None</td>\n",
       "            <td>None</td>\n",
       "            <td>Row(customer_id=Row(column_size=939, value_count=78, null_value_count=0, nan_value_count=None, lower_bound=&#x27;134aec7a-34bf-45&#x27;, upper_bound=&#x27;fc163145-d095-43&#x27;), dim_country=Row(column_size=240, value_count=78, null_value_count=0, nan_value_count=None, lower_bound=&#x27;Canada&#x27;, upper_bound=&#x27;United States&#x27;), dim_customer_status=Row(column_size=103, value_count=78, null_value_count=0, nan_value_count=None, lower_bound=&#x27;active&#x27;, upper_bound=&#x27;inactive&#x27;), dim_event_date=Row(column_size=192, value_count=78, null_value_count=0, nan_value_count=None, lower_bound=datetime.date(2020, 2, 1), upper_bound=datetime.date(2020, 2, 29)), dim_event_type=Row(column_size=155, value_count=78, null_value_count=0, nan_value_count=None, lower_bound=&#x27;invoice_created&#x27;, upper_bound=&#x27;refund&#x27;), dim_name=Row(column_size=559, value_count=78, null_value_count=0, nan_value_count=None, lower_bound=&#x27;Andrew Romero&#x27;, upper_bound=&#x27;Victor Holden&#x27;), dim_signup_date=Row(column_size=183, value_count=78, null_value_count=0, nan_value_count=None, lower_bound=datetime.date(2020, 1, 2), upper_bound=datetime.date(2020, 2, 12)), dim_subscription_end_date=Row(column_size=248, value_count=78, null_value_count=2, nan_value_count=None, lower_bound=datetime.date(2020, 3, 29), upper_bound=datetime.date(2023, 1, 23)), ds=Row(column_size=73, value_count=78, null_value_count=0, nan_value_count=None, lower_bound=datetime.date(2025, 8, 9), upper_bound=datetime.date(2025, 8, 9)), event_id=Row(column_size=1615, value_count=78, null_value_count=0, nan_value_count=None, lower_bound=&#x27;02c58580-9869-42&#x27;, upper_bound=&#x27;fbe5de68-8815-46&#x27;), m_amount=Row(column_size=157, value_count=78, null_value_count=0, nan_value_count=0, lower_bound=-12.71, upper_bound=1059.44), month_start=Row(column_size=81, value_count=78, null_value_count=0, nan_value_count=None, lower_bound=datetime.date(2020, 2, 1), upper_bound=datetime.date(2020, 2, 1)), plan_id=Row(column_size=257, value_count=78, null_value_count=0, nan_value_count=None, lower_bound=&#x27;2e320402-1f28-49&#x27;, upper_bound=&#x27;eb19d54f-75b5-4f&#x27;), subscription_id=Row(column_size=954, value_count=78, null_value_count=0, nan_value_count=None, lower_bound=&#x27;07c182e1-8134-47&#x27;, upper_bound=&#x27;ffd0896e-86da-4c&#x27;))</td>\n",
       "        </tr>\n",
       "        <tr>\n",
       "            <td>0</td>\n",
       "            <td>s3://warehouse/saas/fct_billing_events/data/dim_event_date_month=2020-05/00000-28-d51a1584-e62b-490d-92e4-17defb6e3437-0-00002.parquet</td>\n",
       "            <td>PARQUET</td>\n",
       "            <td>0</td>\n",
       "            <td>Row(dim_event_date_month=604)</td>\n",
       "            <td>205</td>\n",
       "            <td>16720</td>\n",
       "            <td>{1: 2280, 2: 1219, 3: 109, 4: 421, 5: 507, 6: 2300, 7: 4142, 8: 156, 9: 212, 10: 306, 11: 283, 12: 358, 13: 81, 14: 73}</td>\n",
       "            <td>{1: 205, 2: 205, 3: 205, 4: 205, 5: 205, 6: 205, 7: 205, 8: 205, 9: 205, 10: 205, 11: 205, 12: 205, 13: 205, 14: 205}</td>\n",
       "            <td>{1: 0, 2: 0, 3: 0, 4: 0, 5: 6, 6: 0, 7: 0, 8: 0, 9: 0, 10: 0, 11: 0, 12: 0, 13: 0, 14: 0}</td>\n",
       "            <td>{9: 0}</td>\n",
       "            <td>{1: bytearray(b&#x27;0078f189-44a6-45&#x27;), 2: bytearray(b&#x27;Alan Johnson&#x27;), 3: bytearray(b&#x27;active&#x27;), 4: bytearray(b&#x27;WG\\x00\\x00&#x27;), 5: bytearray(b&#x27;\\xeaG\\x00\\x00&#x27;), 6: bytearray(b&#x27;02e71e40-8863-4b&#x27;), 7: bytearray(b&#x27;0075bc83-47be-4e&#x27;), 8: bytearray(b&#x27;invoice_created&#x27;), 9: bytearray(b&#x27;q=\\n\\xd7\\xa3$v\\xc0&#x27;), 10: bytearray(b&#x27;2e320402-1f28-49&#x27;), 11: bytearray(b&#x27;\\xcfG\\x00\\x00&#x27;), 12: bytearray(b&#x27;Australia&#x27;), 13: bytearray(b&#x27;\\xcfG\\x00\\x00&#x27;), 14: bytearray(b&#x27;UO\\x00\\x00&#x27;)}</td>\n",
       "            <td>{1: bytearray(b&#x27;fedb2fa8-97e4-49&#x27;), 2: bytearray(b&#x27;Victoria Garcia&#x27;), 3: bytearray(b&#x27;inactive&#x27;), 4: bytearray(b&#x27;\\xdbG\\x00\\x00&#x27;), 5: bytearray(b&#x27;\\x02N\\x00\\x00&#x27;), 6: bytearray(b&#x27;fbc92754-f385-47&#x27;), 7: bytearray(b&#x27;feb46888-c3b8-49&#x27;), 8: bytearray(b&#x27;refund&#x27;), 9: bytearray(b&#x27;\\xf6(\\\\\\x8f\\xc2\\x8d\\x90@&#x27;), 10: bytearray(b&#x27;eb19d54f-75b5-4f&#x27;), 11: bytearray(b&#x27;\\xedG\\x00\\x00&#x27;), 12: bytearray(b&#x27;United States&#x27;), 13: bytearray(b&#x27;\\xcfG\\x00\\x00&#x27;), 14: bytearray(b&#x27;UO\\x00\\x00&#x27;)}</td>\n",
       "            <td>None</td>\n",
       "            <td>[4]</td>\n",
       "            <td>None</td>\n",
       "            <td>0</td>\n",
       "            <td>None</td>\n",
       "            <td>None</td>\n",
       "            <td>None</td>\n",
       "            <td>Row(customer_id=Row(column_size=2280, value_count=205, null_value_count=0, nan_value_count=None, lower_bound=&#x27;0078f189-44a6-45&#x27;, upper_bound=&#x27;fedb2fa8-97e4-49&#x27;), dim_country=Row(column_size=358, value_count=205, null_value_count=0, nan_value_count=None, lower_bound=&#x27;Australia&#x27;, upper_bound=&#x27;United States&#x27;), dim_customer_status=Row(column_size=109, value_count=205, null_value_count=0, nan_value_count=None, lower_bound=&#x27;active&#x27;, upper_bound=&#x27;inactive&#x27;), dim_event_date=Row(column_size=283, value_count=205, null_value_count=0, nan_value_count=None, lower_bound=datetime.date(2020, 5, 1), upper_bound=datetime.date(2020, 5, 31)), dim_event_type=Row(column_size=156, value_count=205, null_value_count=0, nan_value_count=None, lower_bound=&#x27;invoice_created&#x27;, upper_bound=&#x27;refund&#x27;), dim_name=Row(column_size=1219, value_count=205, null_value_count=0, nan_value_count=None, lower_bound=&#x27;Alan Johnson&#x27;, upper_bound=&#x27;Victoria Garcia&#x27;), dim_signup_date=Row(column_size=421, value_count=205, null_value_count=0, nan_value_count=None, lower_bound=datetime.date(2020, 1, 2), upper_bound=datetime.date(2020, 5, 13)), dim_subscription_end_date=Row(column_size=507, value_count=205, null_value_count=6, nan_value_count=None, lower_bound=datetime.date(2020, 5, 28), upper_bound=datetime.date(2024, 9, 4)), ds=Row(column_size=73, value_count=205, null_value_count=0, nan_value_count=None, lower_bound=datetime.date(2025, 8, 9), upper_bound=datetime.date(2025, 8, 9)), event_id=Row(column_size=4142, value_count=205, null_value_count=0, nan_value_count=None, lower_bound=&#x27;0075bc83-47be-4e&#x27;, upper_bound=&#x27;feb46888-c3b8-49&#x27;), m_amount=Row(column_size=212, value_count=205, null_value_count=0, nan_value_count=0, lower_bound=-354.29, upper_bound=1059.44), month_start=Row(column_size=81, value_count=205, null_value_count=0, nan_value_count=None, lower_bound=datetime.date(2020, 5, 1), upper_bound=datetime.date(2020, 5, 1)), plan_id=Row(column_size=306, value_count=205, null_value_count=0, nan_value_count=None, lower_bound=&#x27;2e320402-1f28-49&#x27;, upper_bound=&#x27;eb19d54f-75b5-4f&#x27;), subscription_id=Row(column_size=2300, value_count=205, null_value_count=0, nan_value_count=None, lower_bound=&#x27;02e71e40-8863-4b&#x27;, upper_bound=&#x27;fbc92754-f385-47&#x27;))</td>\n",
       "        </tr>\n",
       "    </tbody>\n",
       "</table>"
      ],
      "text/plain": [
       "+---------+----------------------------------------------------------------------------------------------------------------------------------------+-------------+---------+-------------------------------+--------------+--------------------+-------------------------------------------------------------------------------------------------------------------------------+-------------------------------------------------------------------------------------------------------------------------------------+---------------------------------------------------------------------------------------------+------------------+------------------------------------------------------------------------------------------------------------------------------------------------------------------------------------------------------------------------------------------------------------------------------------------------------------------------------------------------------------------------------------------------------------------------------------------------------------------------+---------------------------------------------------------------------------------------------------------------------------------------------------------------------------------------------------------------------------------------------------------------------------------------------------------------------------------------------------------------------------------------------------------------------------------------------------------------------------------+--------------+---------------+--------------+---------------+----------------------+----------------+-----------------------+-----------------------------------------------------------------------------------------------------------------------------------------------------------------------------------------------------------------------------------------------------------------------------------------------------------------------------------------------------------------------------------------------------------------------------------------------------------------------------------------------------------------------------------------------------------------------------------------------------------------------------------------------------------------------------------------------------------------------------------------------------------------------------------------------------------------------------------------------------------------------------------------------------------------------------------------------------------------------------------------------------------------------------------------------------------------------------------------------------------------------------------------------------------------------------------------------------------------------------------------------------------------------------------------------------------------------------------------------------------------------------------------------------------------------------------------------------------------------------------------------------------------------------------------------------------------------------------------------------------------------------------------------------------------------------------------------------------------------------------------------------------------------------------------------------------------------------------------------------------------------------------------------------------------------------------------------------------------------------------------------------------------------------------------------------------------------------------------------------------------------------------------------------------------------------------------------------------------------------------------------------------------------------------------------------------------------------------------+\n",
       "| content |                                                                                                                              file_path | file_format | spec_id |                     partition | record_count | file_size_in_bytes |                                                                                                                  column_sizes |                                                                                                                        value_counts |                                                                           null_value_counts | nan_value_counts |                                                                                                                                                                                                                                                                                                                                                                                                                                                           lower_bounds |                                                                                                                                                                                                                                                                                                                                                                                                                                                                    upper_bounds | key_metadata | split_offsets | equality_ids | sort_order_id | referenced_data_file | content_offset | content_size_in_bytes |                                                                                                                                                                                                                                                                                                                                                                                                                                                                                                                                                                                                                                                                                                                                                                                                                                                                                                                                                                                                                                                                                                                                                                                                                                                                                                                                                                                                                                                                                                                                                                                                                                                                                                                                                                                                                                                                                                                                                                                                                                                                                                                                                                                                                                                                                                                        readable_metrics |\n",
       "+---------+----------------------------------------------------------------------------------------------------------------------------------------+-------------+---------+-------------------------------+--------------+--------------------+-------------------------------------------------------------------------------------------------------------------------------+-------------------------------------------------------------------------------------------------------------------------------------+---------------------------------------------------------------------------------------------+------------------+------------------------------------------------------------------------------------------------------------------------------------------------------------------------------------------------------------------------------------------------------------------------------------------------------------------------------------------------------------------------------------------------------------------------------------------------------------------------+---------------------------------------------------------------------------------------------------------------------------------------------------------------------------------------------------------------------------------------------------------------------------------------------------------------------------------------------------------------------------------------------------------------------------------------------------------------------------------+--------------+---------------+--------------+---------------+----------------------+----------------+-----------------------+-----------------------------------------------------------------------------------------------------------------------------------------------------------------------------------------------------------------------------------------------------------------------------------------------------------------------------------------------------------------------------------------------------------------------------------------------------------------------------------------------------------------------------------------------------------------------------------------------------------------------------------------------------------------------------------------------------------------------------------------------------------------------------------------------------------------------------------------------------------------------------------------------------------------------------------------------------------------------------------------------------------------------------------------------------------------------------------------------------------------------------------------------------------------------------------------------------------------------------------------------------------------------------------------------------------------------------------------------------------------------------------------------------------------------------------------------------------------------------------------------------------------------------------------------------------------------------------------------------------------------------------------------------------------------------------------------------------------------------------------------------------------------------------------------------------------------------------------------------------------------------------------------------------------------------------------------------------------------------------------------------------------------------------------------------------------------------------------------------------------------------------------------------------------------------------------------------------------------------------------------------------------------------------------------------------------------------------------+\n",
       "|       0 | s3://warehouse/saas/fct_billing_events/data/dim_event_date_month=2022-10/00000-28-d51a1584-e62b-490d-92e4-17defb6e3437-0-00003.parquet |     PARQUET |       0 | Row(dim_event_date_month=633) |         1327 |              75690 | {1: 14378, 2: 6401, 3: 134, 4: 2655, 5: 2421, 6: 14697, 7: 26950, 8: 155, 9: 746, 10: 646, 11: 978, 12: 1060, 13: 80, 14: 73} | {1: 1327, 2: 1327, 3: 1327, 4: 1327, 5: 1327, 6: 1327, 7: 1327, 8: 1327, 9: 1327, 10: 1327, 11: 1327, 12: 1327, 13: 1327, 14: 1327} | {1: 0, 2: 0, 3: 0, 4: 0, 5: 157, 6: 0, 7: 0, 8: 0, 9: 0, 10: 0, 11: 0, 12: 0, 13: 0, 14: 0} |           {9: 0} |     {1: bytearray(b'0005385d-26ae-46'), 2: bytearray(b'Abigail Case'), 3: bytearray(b'active'), 4: bytearray(b'WG\\x00\\x00'), 5: bytearray(b'SK\\x00\\x00'), 6: bytearray(b'000613e1-4efd-42'), 7: bytearray(b'00181c60-d230-4e'), 8: bytearray(b'invoice_created'), 9: bytearray(b'\\x85\\xebQ\\xb8\\x1eUW\\xc0'), 10: bytearray(b'2e320402-1f28-49'), 11: bytearray(b'BK\\x00\\x00'), 12: bytearray(b'Australia'), 13: bytearray(b'BK\\x00\\x00'), 14: bytearray(b'UO\\x00\\x00')} |               {1: bytearray(b'ffb597d8-a10d-46'), 2: bytearray(b'Yolanda Mccoy'), 3: bytearray(b'inactive'), 4: bytearray(b'PK\\x00\\x00'), 5: bytearray(b'{O\\x00\\x00'), 6: bytearray(b'ff9abfdb-cc0c-44'), 7: bytearray(b'fffc00bc-f8f0-45'), 8: bytearray(b'refund'), 9: bytearray(b'\\xf6(\\\\\\x8f\\xc2\\x8d\\x90@'), 10: bytearray(b'eb19d54f-75b5-4f'), 11: bytearray(b'`K\\x00\\x00'), 12: bytearray(b'United States'), 13: bytearray(b'BK\\x00\\x00'), 14: bytearray(b'UO\\x00\\x00')} |         None |           [4] |         None |             0 |                 None |           None |                  None | Row(customer_id=Row(column_size=14378, value_count=1327, null_value_count=0, nan_value_count=None, lower_bound='0005385d-26ae-46', upper_bound='ffb597d8-a10d-46'), dim_country=Row(column_size=1060, value_count=1327, null_value_count=0, nan_value_count=None, lower_bound='Australia', upper_bound='United States'), dim_customer_status=Row(column_size=134, value_count=1327, null_value_count=0, nan_value_count=None, lower_bound='active', upper_bound='inactive'), dim_event_date=Row(column_size=978, value_count=1327, null_value_count=0, nan_value_count=None, lower_bound=datetime.date(2022, 10, 1), upper_bound=datetime.date(2022, 10, 31)), dim_event_type=Row(column_size=155, value_count=1327, null_value_count=0, nan_value_count=None, lower_bound='invoice_created', upper_bound='refund'), dim_name=Row(column_size=6401, value_count=1327, null_value_count=0, nan_value_count=None, lower_bound='Abigail Case', upper_bound='Yolanda Mccoy'), dim_signup_date=Row(column_size=2655, value_count=1327, null_value_count=0, nan_value_count=None, lower_bound=datetime.date(2020, 1, 2), upper_bound=datetime.date(2022, 10, 15)), dim_subscription_end_date=Row(column_size=2421, value_count=1327, null_value_count=157, nan_value_count=None, lower_bound=datetime.date(2022, 10, 18), upper_bound=datetime.date(2025, 9, 16)), ds=Row(column_size=73, value_count=1327, null_value_count=0, nan_value_count=None, lower_bound=datetime.date(2025, 8, 9), upper_bound=datetime.date(2025, 8, 9)), event_id=Row(column_size=26950, value_count=1327, null_value_count=0, nan_value_count=None, lower_bound='00181c60-d230-4e', upper_bound='fffc00bc-f8f0-45'), m_amount=Row(column_size=746, value_count=1327, null_value_count=0, nan_value_count=0, lower_bound=-93.33, upper_bound=1059.44), month_start=Row(column_size=80, value_count=1327, null_value_count=0, nan_value_count=None, lower_bound=datetime.date(2022, 10, 1), upper_bound=datetime.date(2022, 10, 1)), plan_id=Row(column_size=646, value_count=1327, null_value_count=0, nan_value_count=None, lower_bound='2e320402-1f28-49', upper_bound='eb19d54f-75b5-4f'), subscription_id=Row(column_size=14697, value_count=1327, null_value_count=0, nan_value_count=None, lower_bound='000613e1-4efd-42', upper_bound='ff9abfdb-cc0c-44')) |\n",
       "|       0 | s3://warehouse/saas/fct_billing_events/data/dim_event_date_month=2020-02/00000-28-d51a1584-e62b-490d-92e4-17defb6e3437-0-00004.parquet |     PARQUET |       0 | Row(dim_event_date_month=601) |           78 |               9970 |          {1: 939, 2: 559, 3: 103, 4: 183, 5: 248, 6: 954, 7: 1615, 8: 155, 9: 157, 10: 257, 11: 192, 12: 240, 13: 81, 14: 73} |                             {1: 78, 2: 78, 3: 78, 4: 78, 5: 78, 6: 78, 7: 78, 8: 78, 9: 78, 10: 78, 11: 78, 12: 78, 13: 78, 14: 78} |   {1: 0, 2: 0, 3: 0, 4: 0, 5: 2, 6: 0, 7: 0, 8: 0, 9: 0, 10: 0, 11: 0, 12: 0, 13: 0, 14: 0} |           {9: 0} |    {1: bytearray(b'134aec7a-34bf-45'), 2: bytearray(b'Andrew Romero'), 3: bytearray(b'active'), 4: bytearray(b'WG\\x00\\x00'), 5: bytearray(b'\\xaeG\\x00\\x00'), 6: bytearray(b'07c182e1-8134-47'), 7: bytearray(b'02c58580-9869-42'), 8: bytearray(b'invoice_created'), 9: bytearray(b'\\xecQ\\xb8\\x1e\\x85k)\\xc0'), 10: bytearray(b'2e320402-1f28-49'), 11: bytearray(b'uG\\x00\\x00'), 12: bytearray(b'Canada'), 13: bytearray(b'uG\\x00\\x00'), 14: bytearray(b'UO\\x00\\x00')} |      {1: bytearray(b'fc163145-d095-43'), 2: bytearray(b'Victor Holden'), 3: bytearray(b'inactive'), 4: bytearray(b'\\x80G\\x00\\x00'), 5: bytearray(b'\\xb4K\\x00\\x00'), 6: bytearray(b'ffd0896e-86da-4c'), 7: bytearray(b'fbe5de68-8815-46'), 8: bytearray(b'refund'), 9: bytearray(b'\\xf6(\\\\\\x8f\\xc2\\x8d\\x90@'), 10: bytearray(b'eb19d54f-75b5-4f'), 11: bytearray(b'\\x91G\\x00\\x00'), 12: bytearray(b'United States'), 13: bytearray(b'uG\\x00\\x00'), 14: bytearray(b'UO\\x00\\x00')} |         None |           [4] |         None |             0 |                 None |           None |                  None |                                                Row(customer_id=Row(column_size=939, value_count=78, null_value_count=0, nan_value_count=None, lower_bound='134aec7a-34bf-45', upper_bound='fc163145-d095-43'), dim_country=Row(column_size=240, value_count=78, null_value_count=0, nan_value_count=None, lower_bound='Canada', upper_bound='United States'), dim_customer_status=Row(column_size=103, value_count=78, null_value_count=0, nan_value_count=None, lower_bound='active', upper_bound='inactive'), dim_event_date=Row(column_size=192, value_count=78, null_value_count=0, nan_value_count=None, lower_bound=datetime.date(2020, 2, 1), upper_bound=datetime.date(2020, 2, 29)), dim_event_type=Row(column_size=155, value_count=78, null_value_count=0, nan_value_count=None, lower_bound='invoice_created', upper_bound='refund'), dim_name=Row(column_size=559, value_count=78, null_value_count=0, nan_value_count=None, lower_bound='Andrew Romero', upper_bound='Victor Holden'), dim_signup_date=Row(column_size=183, value_count=78, null_value_count=0, nan_value_count=None, lower_bound=datetime.date(2020, 1, 2), upper_bound=datetime.date(2020, 2, 12)), dim_subscription_end_date=Row(column_size=248, value_count=78, null_value_count=2, nan_value_count=None, lower_bound=datetime.date(2020, 3, 29), upper_bound=datetime.date(2023, 1, 23)), ds=Row(column_size=73, value_count=78, null_value_count=0, nan_value_count=None, lower_bound=datetime.date(2025, 8, 9), upper_bound=datetime.date(2025, 8, 9)), event_id=Row(column_size=1615, value_count=78, null_value_count=0, nan_value_count=None, lower_bound='02c58580-9869-42', upper_bound='fbe5de68-8815-46'), m_amount=Row(column_size=157, value_count=78, null_value_count=0, nan_value_count=0, lower_bound=-12.71, upper_bound=1059.44), month_start=Row(column_size=81, value_count=78, null_value_count=0, nan_value_count=None, lower_bound=datetime.date(2020, 2, 1), upper_bound=datetime.date(2020, 2, 1)), plan_id=Row(column_size=257, value_count=78, null_value_count=0, nan_value_count=None, lower_bound='2e320402-1f28-49', upper_bound='eb19d54f-75b5-4f'), subscription_id=Row(column_size=954, value_count=78, null_value_count=0, nan_value_count=None, lower_bound='07c182e1-8134-47', upper_bound='ffd0896e-86da-4c')) |\n",
       "|       0 | s3://warehouse/saas/fct_billing_events/data/dim_event_date_month=2020-05/00000-28-d51a1584-e62b-490d-92e4-17defb6e3437-0-00002.parquet |     PARQUET |       0 | Row(dim_event_date_month=604) |          205 |              16720 |       {1: 2280, 2: 1219, 3: 109, 4: 421, 5: 507, 6: 2300, 7: 4142, 8: 156, 9: 212, 10: 306, 11: 283, 12: 358, 13: 81, 14: 73} |               {1: 205, 2: 205, 3: 205, 4: 205, 5: 205, 6: 205, 7: 205, 8: 205, 9: 205, 10: 205, 11: 205, 12: 205, 13: 205, 14: 205} |   {1: 0, 2: 0, 3: 0, 4: 0, 5: 6, 6: 0, 7: 0, 8: 0, 9: 0, 10: 0, 11: 0, 12: 0, 13: 0, 14: 0} |           {9: 0} | {1: bytearray(b'0078f189-44a6-45'), 2: bytearray(b'Alan Johnson'), 3: bytearray(b'active'), 4: bytearray(b'WG\\x00\\x00'), 5: bytearray(b'\\xeaG\\x00\\x00'), 6: bytearray(b'02e71e40-8863-4b'), 7: bytearray(b'0075bc83-47be-4e'), 8: bytearray(b'invoice_created'), 9: bytearray(b'q=\\n\\xd7\\xa3$v\\xc0'), 10: bytearray(b'2e320402-1f28-49'), 11: bytearray(b'\\xcfG\\x00\\x00'), 12: bytearray(b'Australia'), 13: bytearray(b'\\xcfG\\x00\\x00'), 14: bytearray(b'UO\\x00\\x00')} | {1: bytearray(b'fedb2fa8-97e4-49'), 2: bytearray(b'Victoria Garcia'), 3: bytearray(b'inactive'), 4: bytearray(b'\\xdbG\\x00\\x00'), 5: bytearray(b'\\x02N\\x00\\x00'), 6: bytearray(b'fbc92754-f385-47'), 7: bytearray(b'feb46888-c3b8-49'), 8: bytearray(b'refund'), 9: bytearray(b'\\xf6(\\\\\\x8f\\xc2\\x8d\\x90@'), 10: bytearray(b'eb19d54f-75b5-4f'), 11: bytearray(b'\\xedG\\x00\\x00'), 12: bytearray(b'United States'), 13: bytearray(b'\\xcfG\\x00\\x00'), 14: bytearray(b'UO\\x00\\x00')} |         None |           [4] |         None |             0 |                 None |           None |                  None |                           Row(customer_id=Row(column_size=2280, value_count=205, null_value_count=0, nan_value_count=None, lower_bound='0078f189-44a6-45', upper_bound='fedb2fa8-97e4-49'), dim_country=Row(column_size=358, value_count=205, null_value_count=0, nan_value_count=None, lower_bound='Australia', upper_bound='United States'), dim_customer_status=Row(column_size=109, value_count=205, null_value_count=0, nan_value_count=None, lower_bound='active', upper_bound='inactive'), dim_event_date=Row(column_size=283, value_count=205, null_value_count=0, nan_value_count=None, lower_bound=datetime.date(2020, 5, 1), upper_bound=datetime.date(2020, 5, 31)), dim_event_type=Row(column_size=156, value_count=205, null_value_count=0, nan_value_count=None, lower_bound='invoice_created', upper_bound='refund'), dim_name=Row(column_size=1219, value_count=205, null_value_count=0, nan_value_count=None, lower_bound='Alan Johnson', upper_bound='Victoria Garcia'), dim_signup_date=Row(column_size=421, value_count=205, null_value_count=0, nan_value_count=None, lower_bound=datetime.date(2020, 1, 2), upper_bound=datetime.date(2020, 5, 13)), dim_subscription_end_date=Row(column_size=507, value_count=205, null_value_count=6, nan_value_count=None, lower_bound=datetime.date(2020, 5, 28), upper_bound=datetime.date(2024, 9, 4)), ds=Row(column_size=73, value_count=205, null_value_count=0, nan_value_count=None, lower_bound=datetime.date(2025, 8, 9), upper_bound=datetime.date(2025, 8, 9)), event_id=Row(column_size=4142, value_count=205, null_value_count=0, nan_value_count=None, lower_bound='0075bc83-47be-4e', upper_bound='feb46888-c3b8-49'), m_amount=Row(column_size=212, value_count=205, null_value_count=0, nan_value_count=0, lower_bound=-354.29, upper_bound=1059.44), month_start=Row(column_size=81, value_count=205, null_value_count=0, nan_value_count=None, lower_bound=datetime.date(2020, 5, 1), upper_bound=datetime.date(2020, 5, 1)), plan_id=Row(column_size=306, value_count=205, null_value_count=0, nan_value_count=None, lower_bound='2e320402-1f28-49', upper_bound='eb19d54f-75b5-4f'), subscription_id=Row(column_size=2300, value_count=205, null_value_count=0, nan_value_count=None, lower_bound='02e71e40-8863-4b', upper_bound='fbc92754-f385-47')) |\n",
       "+---------+----------------------------------------------------------------------------------------------------------------------------------------+-------------+---------+-------------------------------+--------------+--------------------+-------------------------------------------------------------------------------------------------------------------------------+-------------------------------------------------------------------------------------------------------------------------------------+---------------------------------------------------------------------------------------------+------------------+------------------------------------------------------------------------------------------------------------------------------------------------------------------------------------------------------------------------------------------------------------------------------------------------------------------------------------------------------------------------------------------------------------------------------------------------------------------------+---------------------------------------------------------------------------------------------------------------------------------------------------------------------------------------------------------------------------------------------------------------------------------------------------------------------------------------------------------------------------------------------------------------------------------------------------------------------------------+--------------+---------------+--------------+---------------+----------------------+----------------+-----------------------+-----------------------------------------------------------------------------------------------------------------------------------------------------------------------------------------------------------------------------------------------------------------------------------------------------------------------------------------------------------------------------------------------------------------------------------------------------------------------------------------------------------------------------------------------------------------------------------------------------------------------------------------------------------------------------------------------------------------------------------------------------------------------------------------------------------------------------------------------------------------------------------------------------------------------------------------------------------------------------------------------------------------------------------------------------------------------------------------------------------------------------------------------------------------------------------------------------------------------------------------------------------------------------------------------------------------------------------------------------------------------------------------------------------------------------------------------------------------------------------------------------------------------------------------------------------------------------------------------------------------------------------------------------------------------------------------------------------------------------------------------------------------------------------------------------------------------------------------------------------------------------------------------------------------------------------------------------------------------------------------------------------------------------------------------------------------------------------------------------------------------------------------------------------------------------------------------------------------------------------------------------------------------------------------------------------------------------------------+"
      ]
     },
     "execution_count": 29,
     "metadata": {},
     "output_type": "execute_result"
    }
   ],
   "source": [
    "%%sql\n",
    "\n",
    "SELECT * FROM saas.fct_billing_events.files LIMIT 3"
   ]
  },
  {
   "cell_type": "code",
   "execution_count": 30,
   "id": "c4bfc267-13d1-4696-bccf-2bc6249ebef7",
   "metadata": {},
   "outputs": [
    {
     "data": {
      "text/plain": [
       "DataFrame[subscription_id: string, event_id: string, event_type: string, amount: string, event_date: date]"
      ]
     },
     "execution_count": 30,
     "metadata": {},
     "output_type": "execute_result"
    }
   ],
   "source": [
    "billing_events"
   ]
  },
  {
   "cell_type": "code",
   "execution_count": 94,
   "id": "db94bc4f-5a87-4b8a-96d7-a8a8b326fa61",
   "metadata": {},
   "outputs": [
    {
     "data": {
      "text/html": [
       "<table>\n",
       "    <thead>\n",
       "        <tr>\n",
       "        </tr>\n",
       "    </thead>\n",
       "    <tbody>\n",
       "    </tbody>\n",
       "</table>"
      ],
      "text/plain": [
       "++\n",
       "||\n",
       "++\n",
       "++"
      ]
     },
     "execution_count": 94,
     "metadata": {},
     "output_type": "execute_result"
    }
   ],
   "source": [
    "%%sql\n",
    "\n",
    "CREATE TABLE IF NOT EXISTS saas.billing_events_bucketed (\n",
    "    subscription_id STRING,\n",
    "    event_id STRING,\n",
    "    event_type STRING,\n",
    "    amount STRING,\n",
    "    event_date DATE\n",
    ")\n",
    "USING iceberg\n",
    "PARTITIONED BY (bucket(16, subscription_id));"
   ]
  },
  {
   "cell_type": "code",
   "execution_count": 95,
   "id": "9c9486d4-cde8-47d5-83aa-6da723051273",
   "metadata": {},
   "outputs": [
    {
     "data": {
      "text/plain": [
       "DataFrame[subscription_id: string, customer_id: string, end_date: string, plan_id: string]"
      ]
     },
     "execution_count": 95,
     "metadata": {},
     "output_type": "execute_result"
    }
   ],
   "source": [
    "subscriptions"
   ]
  },
  {
   "cell_type": "code",
   "execution_count": 96,
   "id": "333a5426-d9bd-4724-b97e-53bf29ce5053",
   "metadata": {},
   "outputs": [
    {
     "data": {
      "text/html": [
       "<table>\n",
       "    <thead>\n",
       "        <tr>\n",
       "        </tr>\n",
       "    </thead>\n",
       "    <tbody>\n",
       "    </tbody>\n",
       "</table>"
      ],
      "text/plain": [
       "++\n",
       "||\n",
       "++\n",
       "++"
      ]
     },
     "execution_count": 96,
     "metadata": {},
     "output_type": "execute_result"
    }
   ],
   "source": [
    "%%sql\n",
    "\n",
    "CREATE TABLE IF NOT EXISTS saas.subscriptions_bucketed (\n",
    "    subscription_id STRING,\n",
    "    customer_id STRING,\n",
    "    end_date STRING,\n",
    "    plan_id STRING\n",
    ")\n",
    "USING iceberg\n",
    "PARTITIONED BY (bucket(16, subscription_id));"
   ]
  },
  {
   "cell_type": "code",
   "execution_count": 97,
   "id": "f51d061d-f1b2-4245-96d8-51725dad7e8d",
   "metadata": {},
   "outputs": [],
   "source": [
    "spark.conf.set(\"spark.sql.autoBroadcastJoinThreshold\", \"-1\")"
   ]
  },
  {
   "cell_type": "code",
   "execution_count": 98,
   "id": "b94b175d-153c-4071-ad65-e890bfb3870e",
   "metadata": {},
   "outputs": [],
   "source": [
    "# billing_events.writeTo(\"saas.billing_events_bucketed\").overwrite(lit(True))"
   ]
  },
  {
   "cell_type": "code",
   "execution_count": 99,
   "id": "3598d690-daee-4cc4-84e2-834ab43f6c18",
   "metadata": {},
   "outputs": [],
   "source": [
    "billing_events.write.mode(\"overwrite\").bucketBy(16, \"subscription_id\").saveAsTable(\"saas.billing_events_bucketed\")"
   ]
  },
  {
   "cell_type": "code",
   "execution_count": 100,
   "id": "7bdd2b27-8fc8-4abc-883f-a5f1d01e85f9",
   "metadata": {},
   "outputs": [
    {
     "data": {
      "text/html": [
       "<table>\n",
       "    <thead>\n",
       "        <tr>\n",
       "            <th>file_path</th>\n",
       "            <th>record_count</th>\n",
       "            <th>bucket_id</th>\n",
       "        </tr>\n",
       "    </thead>\n",
       "    <tbody>\n",
       "        <tr>\n",
       "            <td>s3://warehouse/saas/billing_events_bucketed/data/subscription_id_bucket=0/00002-108-c0afbd89-7ebf-488b-8bb8-c7398bdef5f6-0-00006.parquet</td>\n",
       "            <td>3943</td>\n",
       "            <td>0</td>\n",
       "        </tr>\n",
       "        <tr>\n",
       "            <td>s3://warehouse/saas/billing_events_bucketed/data/subscription_id_bucket=1/00000-106-c0afbd89-7ebf-488b-8bb8-c7398bdef5f6-0-00002.parquet</td>\n",
       "            <td>3438</td>\n",
       "            <td>1</td>\n",
       "        </tr>\n",
       "        <tr>\n",
       "            <td>s3://warehouse/saas/billing_events_bucketed/data/subscription_id_bucket=2/00002-108-c0afbd89-7ebf-488b-8bb8-c7398bdef5f6-0-00005.parquet</td>\n",
       "            <td>4295</td>\n",
       "            <td>2</td>\n",
       "        </tr>\n",
       "        <tr>\n",
       "            <td>s3://warehouse/saas/billing_events_bucketed/data/subscription_id_bucket=3/00000-106-c0afbd89-7ebf-488b-8bb8-c7398bdef5f6-0-00005.parquet</td>\n",
       "            <td>4020</td>\n",
       "            <td>3</td>\n",
       "        </tr>\n",
       "        <tr>\n",
       "            <td>s3://warehouse/saas/billing_events_bucketed/data/subscription_id_bucket=4/00001-107-c0afbd89-7ebf-488b-8bb8-c7398bdef5f6-0-00004.parquet</td>\n",
       "            <td>4489</td>\n",
       "            <td>4</td>\n",
       "        </tr>\n",
       "        <tr>\n",
       "            <td>s3://warehouse/saas/billing_events_bucketed/data/subscription_id_bucket=5/00001-107-c0afbd89-7ebf-488b-8bb8-c7398bdef5f6-0-00001.parquet</td>\n",
       "            <td>3941</td>\n",
       "            <td>5</td>\n",
       "        </tr>\n",
       "        <tr>\n",
       "            <td>s3://warehouse/saas/billing_events_bucketed/data/subscription_id_bucket=6/00000-106-c0afbd89-7ebf-488b-8bb8-c7398bdef5f6-0-00004.parquet</td>\n",
       "            <td>4246</td>\n",
       "            <td>6</td>\n",
       "        </tr>\n",
       "        <tr>\n",
       "            <td>s3://warehouse/saas/billing_events_bucketed/data/subscription_id_bucket=7/00002-108-c0afbd89-7ebf-488b-8bb8-c7398bdef5f6-0-00001.parquet</td>\n",
       "            <td>3849</td>\n",
       "            <td>7</td>\n",
       "        </tr>\n",
       "        <tr>\n",
       "            <td>s3://warehouse/saas/billing_events_bucketed/data/subscription_id_bucket=8/00001-107-c0afbd89-7ebf-488b-8bb8-c7398bdef5f6-0-00005.parquet</td>\n",
       "            <td>4431</td>\n",
       "            <td>8</td>\n",
       "        </tr>\n",
       "        <tr>\n",
       "            <td>s3://warehouse/saas/billing_events_bucketed/data/subscription_id_bucket=9/00001-107-c0afbd89-7ebf-488b-8bb8-c7398bdef5f6-0-00003.parquet</td>\n",
       "            <td>3994</td>\n",
       "            <td>9</td>\n",
       "        </tr>\n",
       "        <tr>\n",
       "            <td>s3://warehouse/saas/billing_events_bucketed/data/subscription_id_bucket=10/00002-108-c0afbd89-7ebf-488b-8bb8-c7398bdef5f6-0-00002.parquet</td>\n",
       "            <td>3944</td>\n",
       "            <td>10</td>\n",
       "        </tr>\n",
       "        <tr>\n",
       "            <td>s3://warehouse/saas/billing_events_bucketed/data/subscription_id_bucket=11/00002-108-c0afbd89-7ebf-488b-8bb8-c7398bdef5f6-0-00003.parquet</td>\n",
       "            <td>4388</td>\n",
       "            <td>11</td>\n",
       "        </tr>\n",
       "        <tr>\n",
       "            <td>s3://warehouse/saas/billing_events_bucketed/data/subscription_id_bucket=12/00000-106-c0afbd89-7ebf-488b-8bb8-c7398bdef5f6-0-00001.parquet</td>\n",
       "            <td>4187</td>\n",
       "            <td>12</td>\n",
       "        </tr>\n",
       "        <tr>\n",
       "            <td>s3://warehouse/saas/billing_events_bucketed/data/subscription_id_bucket=13/00000-106-c0afbd89-7ebf-488b-8bb8-c7398bdef5f6-0-00003.parquet</td>\n",
       "            <td>3459</td>\n",
       "            <td>13</td>\n",
       "        </tr>\n",
       "        <tr>\n",
       "            <td>s3://warehouse/saas/billing_events_bucketed/data/subscription_id_bucket=14/00002-108-c0afbd89-7ebf-488b-8bb8-c7398bdef5f6-0-00004.parquet</td>\n",
       "            <td>3366</td>\n",
       "            <td>14</td>\n",
       "        </tr>\n",
       "        <tr>\n",
       "            <td>s3://warehouse/saas/billing_events_bucketed/data/subscription_id_bucket=15/00001-107-c0afbd89-7ebf-488b-8bb8-c7398bdef5f6-0-00002.parquet</td>\n",
       "            <td>3857</td>\n",
       "            <td>15</td>\n",
       "        </tr>\n",
       "    </tbody>\n",
       "</table>"
      ],
      "text/plain": [
       "+-------------------------------------------------------------------------------------------------------------------------------------------+--------------+-----------+\n",
       "|                                                                                                                                 file_path | record_count | bucket_id |\n",
       "+-------------------------------------------------------------------------------------------------------------------------------------------+--------------+-----------+\n",
       "|  s3://warehouse/saas/billing_events_bucketed/data/subscription_id_bucket=0/00002-108-c0afbd89-7ebf-488b-8bb8-c7398bdef5f6-0-00006.parquet |         3943 |         0 |\n",
       "|  s3://warehouse/saas/billing_events_bucketed/data/subscription_id_bucket=1/00000-106-c0afbd89-7ebf-488b-8bb8-c7398bdef5f6-0-00002.parquet |         3438 |         1 |\n",
       "|  s3://warehouse/saas/billing_events_bucketed/data/subscription_id_bucket=2/00002-108-c0afbd89-7ebf-488b-8bb8-c7398bdef5f6-0-00005.parquet |         4295 |         2 |\n",
       "|  s3://warehouse/saas/billing_events_bucketed/data/subscription_id_bucket=3/00000-106-c0afbd89-7ebf-488b-8bb8-c7398bdef5f6-0-00005.parquet |         4020 |         3 |\n",
       "|  s3://warehouse/saas/billing_events_bucketed/data/subscription_id_bucket=4/00001-107-c0afbd89-7ebf-488b-8bb8-c7398bdef5f6-0-00004.parquet |         4489 |         4 |\n",
       "|  s3://warehouse/saas/billing_events_bucketed/data/subscription_id_bucket=5/00001-107-c0afbd89-7ebf-488b-8bb8-c7398bdef5f6-0-00001.parquet |         3941 |         5 |\n",
       "|  s3://warehouse/saas/billing_events_bucketed/data/subscription_id_bucket=6/00000-106-c0afbd89-7ebf-488b-8bb8-c7398bdef5f6-0-00004.parquet |         4246 |         6 |\n",
       "|  s3://warehouse/saas/billing_events_bucketed/data/subscription_id_bucket=7/00002-108-c0afbd89-7ebf-488b-8bb8-c7398bdef5f6-0-00001.parquet |         3849 |         7 |\n",
       "|  s3://warehouse/saas/billing_events_bucketed/data/subscription_id_bucket=8/00001-107-c0afbd89-7ebf-488b-8bb8-c7398bdef5f6-0-00005.parquet |         4431 |         8 |\n",
       "|  s3://warehouse/saas/billing_events_bucketed/data/subscription_id_bucket=9/00001-107-c0afbd89-7ebf-488b-8bb8-c7398bdef5f6-0-00003.parquet |         3994 |         9 |\n",
       "| s3://warehouse/saas/billing_events_bucketed/data/subscription_id_bucket=10/00002-108-c0afbd89-7ebf-488b-8bb8-c7398bdef5f6-0-00002.parquet |         3944 |        10 |\n",
       "| s3://warehouse/saas/billing_events_bucketed/data/subscription_id_bucket=11/00002-108-c0afbd89-7ebf-488b-8bb8-c7398bdef5f6-0-00003.parquet |         4388 |        11 |\n",
       "| s3://warehouse/saas/billing_events_bucketed/data/subscription_id_bucket=12/00000-106-c0afbd89-7ebf-488b-8bb8-c7398bdef5f6-0-00001.parquet |         4187 |        12 |\n",
       "| s3://warehouse/saas/billing_events_bucketed/data/subscription_id_bucket=13/00000-106-c0afbd89-7ebf-488b-8bb8-c7398bdef5f6-0-00003.parquet |         3459 |        13 |\n",
       "| s3://warehouse/saas/billing_events_bucketed/data/subscription_id_bucket=14/00002-108-c0afbd89-7ebf-488b-8bb8-c7398bdef5f6-0-00004.parquet |         3366 |        14 |\n",
       "| s3://warehouse/saas/billing_events_bucketed/data/subscription_id_bucket=15/00001-107-c0afbd89-7ebf-488b-8bb8-c7398bdef5f6-0-00002.parquet |         3857 |        15 |\n",
       "+-------------------------------------------------------------------------------------------------------------------------------------------+--------------+-----------+"
      ]
     },
     "execution_count": 100,
     "metadata": {},
     "output_type": "execute_result"
    }
   ],
   "source": [
    "%%sql\n",
    "    \n",
    "SELECT\n",
    "  file_path,\n",
    "  record_count,\n",
    "  partition.subscription_id_bucket AS bucket_id\n",
    "FROM saas.billing_events_bucketed.files\n",
    "ORDER BY bucket_id;"
   ]
  },
  {
   "cell_type": "code",
   "execution_count": 101,
   "id": "5a61296e-db4e-40c1-87f7-83806034a52d",
   "metadata": {},
   "outputs": [],
   "source": [
    "subscriptions.write.mode(\"overwrite\").bucketBy(16, \"subscription_id\").saveAsTable(\"saas.subscriptions_bucketed\")"
   ]
  },
  {
   "cell_type": "code",
   "execution_count": 102,
   "id": "3e06e1f1-05b6-453f-a7af-1ec47724ae0b",
   "metadata": {
    "scrolled": true
   },
   "outputs": [
    {
     "data": {
      "text/html": [
       "<table>\n",
       "    <thead>\n",
       "        <tr>\n",
       "            <th>file_path</th>\n",
       "            <th>record_count</th>\n",
       "            <th>bucket_id</th>\n",
       "        </tr>\n",
       "    </thead>\n",
       "    <tbody>\n",
       "        <tr>\n",
       "            <td>s3://warehouse/saas/subscriptions_bucketed/data/subscription_id_bucket=0/00000-111-af4fa6fc-acf7-4924-9e8c-b4e73df7ed02-0-00016.parquet</td>\n",
       "            <td>395</td>\n",
       "            <td>0</td>\n",
       "        </tr>\n",
       "        <tr>\n",
       "            <td>s3://warehouse/saas/subscriptions_bucketed/data/subscription_id_bucket=1/00000-111-af4fa6fc-acf7-4924-9e8c-b4e73df7ed02-0-00002.parquet</td>\n",
       "            <td>366</td>\n",
       "            <td>1</td>\n",
       "        </tr>\n",
       "        <tr>\n",
       "            <td>s3://warehouse/saas/subscriptions_bucketed/data/subscription_id_bucket=2/00000-111-af4fa6fc-acf7-4924-9e8c-b4e73df7ed02-0-00015.parquet</td>\n",
       "            <td>352</td>\n",
       "            <td>2</td>\n",
       "        </tr>\n",
       "        <tr>\n",
       "            <td>s3://warehouse/saas/subscriptions_bucketed/data/subscription_id_bucket=3/00000-111-af4fa6fc-acf7-4924-9e8c-b4e73df7ed02-0-00005.parquet</td>\n",
       "            <td>393</td>\n",
       "            <td>3</td>\n",
       "        </tr>\n",
       "        <tr>\n",
       "            <td>s3://warehouse/saas/subscriptions_bucketed/data/subscription_id_bucket=4/00000-111-af4fa6fc-acf7-4924-9e8c-b4e73df7ed02-0-00009.parquet</td>\n",
       "            <td>389</td>\n",
       "            <td>4</td>\n",
       "        </tr>\n",
       "        <tr>\n",
       "            <td>s3://warehouse/saas/subscriptions_bucketed/data/subscription_id_bucket=5/00000-111-af4fa6fc-acf7-4924-9e8c-b4e73df7ed02-0-00006.parquet</td>\n",
       "            <td>373</td>\n",
       "            <td>5</td>\n",
       "        </tr>\n",
       "        <tr>\n",
       "            <td>s3://warehouse/saas/subscriptions_bucketed/data/subscription_id_bucket=6/00000-111-af4fa6fc-acf7-4924-9e8c-b4e73df7ed02-0-00004.parquet</td>\n",
       "            <td>356</td>\n",
       "            <td>6</td>\n",
       "        </tr>\n",
       "        <tr>\n",
       "            <td>s3://warehouse/saas/subscriptions_bucketed/data/subscription_id_bucket=7/00000-111-af4fa6fc-acf7-4924-9e8c-b4e73df7ed02-0-00011.parquet</td>\n",
       "            <td>382</td>\n",
       "            <td>7</td>\n",
       "        </tr>\n",
       "        <tr>\n",
       "            <td>s3://warehouse/saas/subscriptions_bucketed/data/subscription_id_bucket=8/00000-111-af4fa6fc-acf7-4924-9e8c-b4e73df7ed02-0-00010.parquet</td>\n",
       "            <td>380</td>\n",
       "            <td>8</td>\n",
       "        </tr>\n",
       "        <tr>\n",
       "            <td>s3://warehouse/saas/subscriptions_bucketed/data/subscription_id_bucket=9/00000-111-af4fa6fc-acf7-4924-9e8c-b4e73df7ed02-0-00008.parquet</td>\n",
       "            <td>377</td>\n",
       "            <td>9</td>\n",
       "        </tr>\n",
       "        <tr>\n",
       "            <td>s3://warehouse/saas/subscriptions_bucketed/data/subscription_id_bucket=10/00000-111-af4fa6fc-acf7-4924-9e8c-b4e73df7ed02-0-00012.parquet</td>\n",
       "            <td>349</td>\n",
       "            <td>10</td>\n",
       "        </tr>\n",
       "        <tr>\n",
       "            <td>s3://warehouse/saas/subscriptions_bucketed/data/subscription_id_bucket=11/00000-111-af4fa6fc-acf7-4924-9e8c-b4e73df7ed02-0-00013.parquet</td>\n",
       "            <td>398</td>\n",
       "            <td>11</td>\n",
       "        </tr>\n",
       "        <tr>\n",
       "            <td>s3://warehouse/saas/subscriptions_bucketed/data/subscription_id_bucket=12/00000-111-af4fa6fc-acf7-4924-9e8c-b4e73df7ed02-0-00001.parquet</td>\n",
       "            <td>379</td>\n",
       "            <td>12</td>\n",
       "        </tr>\n",
       "        <tr>\n",
       "            <td>s3://warehouse/saas/subscriptions_bucketed/data/subscription_id_bucket=13/00000-111-af4fa6fc-acf7-4924-9e8c-b4e73df7ed02-0-00003.parquet</td>\n",
       "            <td>329</td>\n",
       "            <td>13</td>\n",
       "        </tr>\n",
       "        <tr>\n",
       "            <td>s3://warehouse/saas/subscriptions_bucketed/data/subscription_id_bucket=14/00000-111-af4fa6fc-acf7-4924-9e8c-b4e73df7ed02-0-00014.parquet</td>\n",
       "            <td>360</td>\n",
       "            <td>14</td>\n",
       "        </tr>\n",
       "        <tr>\n",
       "            <td>s3://warehouse/saas/subscriptions_bucketed/data/subscription_id_bucket=15/00000-111-af4fa6fc-acf7-4924-9e8c-b4e73df7ed02-0-00007.parquet</td>\n",
       "            <td>373</td>\n",
       "            <td>15</td>\n",
       "        </tr>\n",
       "    </tbody>\n",
       "</table>"
      ],
      "text/plain": [
       "+------------------------------------------------------------------------------------------------------------------------------------------+--------------+-----------+\n",
       "|                                                                                                                                file_path | record_count | bucket_id |\n",
       "+------------------------------------------------------------------------------------------------------------------------------------------+--------------+-----------+\n",
       "|  s3://warehouse/saas/subscriptions_bucketed/data/subscription_id_bucket=0/00000-111-af4fa6fc-acf7-4924-9e8c-b4e73df7ed02-0-00016.parquet |          395 |         0 |\n",
       "|  s3://warehouse/saas/subscriptions_bucketed/data/subscription_id_bucket=1/00000-111-af4fa6fc-acf7-4924-9e8c-b4e73df7ed02-0-00002.parquet |          366 |         1 |\n",
       "|  s3://warehouse/saas/subscriptions_bucketed/data/subscription_id_bucket=2/00000-111-af4fa6fc-acf7-4924-9e8c-b4e73df7ed02-0-00015.parquet |          352 |         2 |\n",
       "|  s3://warehouse/saas/subscriptions_bucketed/data/subscription_id_bucket=3/00000-111-af4fa6fc-acf7-4924-9e8c-b4e73df7ed02-0-00005.parquet |          393 |         3 |\n",
       "|  s3://warehouse/saas/subscriptions_bucketed/data/subscription_id_bucket=4/00000-111-af4fa6fc-acf7-4924-9e8c-b4e73df7ed02-0-00009.parquet |          389 |         4 |\n",
       "|  s3://warehouse/saas/subscriptions_bucketed/data/subscription_id_bucket=5/00000-111-af4fa6fc-acf7-4924-9e8c-b4e73df7ed02-0-00006.parquet |          373 |         5 |\n",
       "|  s3://warehouse/saas/subscriptions_bucketed/data/subscription_id_bucket=6/00000-111-af4fa6fc-acf7-4924-9e8c-b4e73df7ed02-0-00004.parquet |          356 |         6 |\n",
       "|  s3://warehouse/saas/subscriptions_bucketed/data/subscription_id_bucket=7/00000-111-af4fa6fc-acf7-4924-9e8c-b4e73df7ed02-0-00011.parquet |          382 |         7 |\n",
       "|  s3://warehouse/saas/subscriptions_bucketed/data/subscription_id_bucket=8/00000-111-af4fa6fc-acf7-4924-9e8c-b4e73df7ed02-0-00010.parquet |          380 |         8 |\n",
       "|  s3://warehouse/saas/subscriptions_bucketed/data/subscription_id_bucket=9/00000-111-af4fa6fc-acf7-4924-9e8c-b4e73df7ed02-0-00008.parquet |          377 |         9 |\n",
       "| s3://warehouse/saas/subscriptions_bucketed/data/subscription_id_bucket=10/00000-111-af4fa6fc-acf7-4924-9e8c-b4e73df7ed02-0-00012.parquet |          349 |        10 |\n",
       "| s3://warehouse/saas/subscriptions_bucketed/data/subscription_id_bucket=11/00000-111-af4fa6fc-acf7-4924-9e8c-b4e73df7ed02-0-00013.parquet |          398 |        11 |\n",
       "| s3://warehouse/saas/subscriptions_bucketed/data/subscription_id_bucket=12/00000-111-af4fa6fc-acf7-4924-9e8c-b4e73df7ed02-0-00001.parquet |          379 |        12 |\n",
       "| s3://warehouse/saas/subscriptions_bucketed/data/subscription_id_bucket=13/00000-111-af4fa6fc-acf7-4924-9e8c-b4e73df7ed02-0-00003.parquet |          329 |        13 |\n",
       "| s3://warehouse/saas/subscriptions_bucketed/data/subscription_id_bucket=14/00000-111-af4fa6fc-acf7-4924-9e8c-b4e73df7ed02-0-00014.parquet |          360 |        14 |\n",
       "| s3://warehouse/saas/subscriptions_bucketed/data/subscription_id_bucket=15/00000-111-af4fa6fc-acf7-4924-9e8c-b4e73df7ed02-0-00007.parquet |          373 |        15 |\n",
       "+------------------------------------------------------------------------------------------------------------------------------------------+--------------+-----------+"
      ]
     },
     "execution_count": 102,
     "metadata": {},
     "output_type": "execute_result"
    }
   ],
   "source": [
    "%%sql\n",
    "\n",
    "SELECT \n",
    "    file_path,\n",
    "    record_count,\n",
    "    partition.subscription_id_bucket AS bucket_id\n",
    "FROM saas.subscriptions_bucketed.files\n",
    "ORDER BY bucket_id;"
   ]
  },
  {
   "cell_type": "code",
   "execution_count": 103,
   "id": "3179d806-dd06-4a2f-b88b-ebff8a444acd",
   "metadata": {},
   "outputs": [],
   "source": [
    "billing_events.createOrReplaceTempView(\"be\")\n",
    "subscriptions.createOrReplaceTempView(\"s\")"
   ]
  },
  {
   "cell_type": "code",
   "execution_count": null,
   "id": "435c4883-ece6-4547-b672-9e9a834a3d83",
   "metadata": {},
   "outputs": [],
   "source": [
    "spark.sql(\"\"\"\n",
    "    SELECT * FROM saas.billing_events_bucketed beb JOIN saas.subscriptions_bucketed sb\n",
    "    ON beb.subscription_id = sb.subscription_id    \n",
    "\"\"\").explain()"
   ]
  },
  {
   "cell_type": "code",
   "execution_count": 105,
   "id": "8cacf34f-8481-461b-b5e1-d87beaec5c3c",
   "metadata": {},
   "outputs": [
    {
     "name": "stdout",
     "output_type": "stream",
     "text": [
      "== Physical Plan ==\n",
      "AdaptiveSparkPlan isFinalPlan=false\n",
      "+- SortMergeJoin [subscription_id#18], [subscription_id#62], Inner\n",
      "   :- Sort [subscription_id#18 ASC NULLS FIRST], false, 0\n",
      "   :  +- Exchange hashpartitioning(subscription_id#18, 200), ENSURE_REQUIREMENTS, [plan_id=2252]\n",
      "   :     +- Project [subscription_id#18, event_id#17, event_type#19, amount#20, cast(date_trunc(day, cast(event_date#22 as timestamp), Some(Etc/UTC)) as date) AS event_date#31]\n",
      "   :        +- Filter isnotnull(subscription_id#18)\n",
      "   :           +- FileScan csv [event_id#17,subscription_id#18,event_type#19,amount#20,event_date#22] Batched: false, DataFilters: [isnotnull(subscription_id#18)], Format: CSV, Location: InMemoryFileIndex(1 paths)[file:/home/iceberg/data/billing_events.csv], PartitionFilters: [], PushedFilters: [IsNotNull(subscription_id)], ReadSchema: struct<event_id:string,subscription_id:string,event_type:string,amount:string,event_date:string>\n",
      "   +- Sort [subscription_id#62 ASC NULLS FIRST], false, 0\n",
      "      +- Exchange hashpartitioning(subscription_id#62, 200), ENSURE_REQUIREMENTS, [plan_id=2253]\n",
      "         +- Project [subscription_id#62, customer_id#63, end_date#66, plan_id#64]\n",
      "            +- Filter isnotnull(subscription_id#62)\n",
      "               +- FileScan csv [subscription_id#62,customer_id#63,plan_id#64,end_date#66] Batched: false, DataFilters: [isnotnull(subscription_id#62)], Format: CSV, Location: InMemoryFileIndex(1 paths)[file:/home/iceberg/data/subscriptions.csv], PartitionFilters: [], PushedFilters: [IsNotNull(subscription_id)], ReadSchema: struct<subscription_id:string,customer_id:string,plan_id:string,end_date:string>\n",
      "\n",
      "\n"
     ]
    }
   ],
   "source": [
    "spark.sql(\"\"\"\n",
    "    SELECT * FROM be JOIN s\n",
    "    ON be.subscription_id = s.subscription_id       \n",
    "\"\"\").explain()"
   ]
  },
  {
   "cell_type": "code",
   "execution_count": null,
   "id": "9f5f4b4a-3f48-401f-9b1c-ae63b99bbd5c",
   "metadata": {},
   "outputs": [],
   "source": []
  }
 ],
 "metadata": {
  "kernelspec": {
   "display_name": "Python 3 (ipykernel)",
   "language": "python",
   "name": "python3"
  },
  "language_info": {
   "codemirror_mode": {
    "name": "ipython",
    "version": 3
   },
   "file_extension": ".py",
   "mimetype": "text/x-python",
   "name": "python",
   "nbconvert_exporter": "python",
   "pygments_lexer": "ipython3",
   "version": "3.10.16"
  }
 },
 "nbformat": 4,
 "nbformat_minor": 5
}
