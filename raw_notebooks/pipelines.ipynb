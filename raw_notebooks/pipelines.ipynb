{
 "cells": [
  {
   "cell_type": "code",
   "execution_count": 1,
   "id": "8178e400-68b9-4379-b485-f04dad5c64c3",
   "metadata": {},
   "outputs": [
    {
     "name": "stderr",
     "output_type": "stream",
     "text": [
      "25/08/14 07:46:58 WARN SparkSession: Using an existing Spark session; only runtime SQL configurations will take effect.\n"
     ]
    }
   ],
   "source": [
    "from pyspark.sql import SparkSession\n",
    "from pyspark.sql.functions import col, expr, current_date, to_date, lit\n",
    "spark = SparkSession.builder.appName(\"Jupyter\").getOrCreate()"
   ]
  },
  {
   "cell_type": "markdown",
   "id": "ce56c098-ca3a-4891-9a4e-9c690bd48b7d",
   "metadata": {},
   "source": [
    "# Tables"
   ]
  },
  {
   "cell_type": "code",
   "execution_count": 3,
   "id": "9078371c-8ce3-4180-9274-1a58281e0976",
   "metadata": {},
   "outputs": [
    {
     "data": {
      "text/plain": [
       "DataFrame[subscription_id: string, event_id: string, event_type: string, amount: double, event_date: date]"
      ]
     },
     "execution_count": 3,
     "metadata": {},
     "output_type": "execute_result"
    }
   ],
   "source": [
    "billing_events"
   ]
  },
  {
   "cell_type": "code",
   "execution_count": 7,
   "id": "70727f77-5d51-410a-983d-7788c60dcd41",
   "metadata": {},
   "outputs": [
    {
     "data": {
      "text/plain": [
       "DataFrame[subscription_id: string, event_id: string, event_type: string, amount: double, event_date: date]"
      ]
     },
     "execution_count": 7,
     "metadata": {},
     "output_type": "execute_result"
    }
   ],
   "source": [
    "%%sql\n",
    "\n",
    "CREATE TABLE IF NOT EXISTS saas.raw_billing_events (\n",
    "    subscription_id STRING,\n",
    "    event_id STRING,\n",
    "    event_type STRING,\n",
    "    amount DOUBLE,\n",
    "    event_date DATE,\n",
    "    ds DATE\n",
    ") \n",
    "USING iceberg\n",
    "PARTITIONED BY (ds);"
   ]
  },
  {
   "cell_type": "code",
   "execution_count": 9,
   "id": "6aaa65ae-2ade-4c2a-a69f-5cf706bb6106",
   "metadata": {},
   "outputs": [
    {
     "data": {
      "text/plain": [
       "DataFrame[subscription_id: string, customer_id: string, end_date: date, plan_id: string]"
      ]
     },
     "execution_count": 9,
     "metadata": {},
     "output_type": "execute_result"
    }
   ],
   "source": [
    "subscriptions"
   ]
  },
  {
   "cell_type": "code",
   "execution_count": null,
   "id": "cc254bc1-2310-48e3-b95f-cd398e39ddc2",
   "metadata": {},
   "outputs": [],
   "source": [
    "%%sql\n",
    "\n",
    "CREATE TABLE IF NOT EXISTS saas.raw_subscriptions (\n",
    "    subscription_id STRING,\n",
    "    customer_id STRING,\n",
    "    plan_id STRING,\n",
    "    end_date DATE,\n",
    "    ds DATE\n",
    ") \n",
    "USING iceberg\n",
    "PARTITIONED BY (ds);"
   ]
  },
  {
   "cell_type": "code",
   "execution_count": 10,
   "id": "8c874b2c-f3a4-4b58-a97d-aec03d03075e",
   "metadata": {},
   "outputs": [
    {
     "data": {
      "text/plain": [
       "DataFrame[customer_id: string, name: string, status: string, signup_date: date, country: string]"
      ]
     },
     "execution_count": 10,
     "metadata": {},
     "output_type": "execute_result"
    }
   ],
   "source": [
    "customers"
   ]
  },
  {
   "cell_type": "code",
   "execution_count": null,
   "id": "cfda87cc-6f8a-426d-b779-235d7dc58b92",
   "metadata": {},
   "outputs": [],
   "source": [
    "%%sql\n",
    "\n",
    "CREATE TABLE IF NOT EXISTS saas.raw_customers (\n",
    "    customer_id STRING,\n",
    "    name STRING,\n",
    "    status STRING,\n",
    "    country STRING,\n",
    "    signup_date DATE,\n",
    "    ds DATE\n",
    ") \n",
    "PARTITIONED BY (ds);"
   ]
  },
  {
   "cell_type": "code",
   "execution_count": null,
   "id": "bbdb9614-0c33-4f70-bf56-eae13a7a48a2",
   "metadata": {},
   "outputs": [],
   "source": [
    "%%sql\n",
    "\n",
    "CREATE TABLE IF NOT EXISTS saas.stg_billing_events (\n",
    "    subscription_id STRING,\n",
    "    event_id STRING,\n",
    "    event_type STRING,\n",
    "    amount DOUBLE,\n",
    "    event_date DATE,\n",
    "    ds DATE\n",
    ") \n",
    "USING iceberg\n",
    "PARTITIONED BY (event_date, bucket(16, subscription_id));"
   ]
  },
  {
   "cell_type": "code",
   "execution_count": null,
   "id": "a06bf7a2-c4b6-44c7-af21-29b7e4495d5d",
   "metadata": {},
   "outputs": [],
   "source": [
    "%%sql\n",
    "\n",
    "CREATE TABLE IF NOT EXISTS saas.stg_subscriptions (\n",
    "    subscription_id STRING,\n",
    "    customer_id STRING,\n",
    "    plan_id STRING,\n",
    "    end_date DATE,\n",
    "    ds DATE\n",
    ") \n",
    "USING iceberg\n",
    "PARTITIONED BY (bucket(16, subscription_id));"
   ]
  },
  {
   "cell_type": "code",
   "execution_count": null,
   "id": "b6f1f46f-369a-44f2-a05d-c20e4a9a906a",
   "metadata": {},
   "outputs": [],
   "source": [
    "%%sql\n",
    "\n",
    "CREATE TABLE IF NOT EXISTS saas.dim_customers_scd2 (\n",
    "    customer_id STRING,\n",
    "    name STRING,\n",
    "    status STRING,\n",
    "    country STRING,\n",
    "    signup_date DATE,\n",
    "    start_date DATE,\n",
    "    end_date DATE,\n",
    "    is_current BOOLEAN,\n",
    "    ds DATE\n",
    ") \n",
    "USING iceberg\n",
    "PARTITIONED BY (is_current);"
   ]
  },
  {
   "cell_type": "code",
   "execution_count": null,
   "id": "9357b6d0-613b-4f5b-bd01-3d18d2c58b77",
   "metadata": {},
   "outputs": [],
   "source": [
    "%%sql\n",
    "\n",
    "CREATE TABLE IF NOT EXISTS saas.fct_billing_events (\n",
    "    customer_id STRING,\n",
    "    dim_name STRING,\n",
    "    dim_customer_status STRING,\n",
    "    dim_signup_date DATE,\n",
    "    dim_subscription_end_date DATE,\n",
    "    subscription_id STRING,\n",
    "    event_id STRING,\n",
    "    dim_event_type STRING,\n",
    "    m_amount DOUBLE,\n",
    "    plan_id STRING,\n",
    "    dim_event_date DATE,\n",
    "    dim_country STRING,\n",
    "    month_start DATE,\n",
    "    ds DATE\n",
    ") \n",
    "USING iceberg\n",
    "PARTITIONED BY (dim_event_date);"
   ]
  },
  {
   "cell_type": "markdown",
   "id": "24170107-3e0d-4e28-9c24-3871fcb07c32",
   "metadata": {},
   "source": [
    "# Pipeline code"
   ]
  },
  {
   "cell_type": "code",
   "execution_count": null,
   "id": "ed40f156-64d8-49c3-b8ed-d0f25d3d2817",
   "metadata": {},
   "outputs": [],
   "source": [
    "billing_events = spark.read.format(\"csv\").option(\"header\", \"true\").option(\"inferSchema\", \"true\").csv(\"/home/iceberg/data/billing_events.csv\").withColumn(\"event_date\", expr(\"CAST(DATE_TRUNC('day', event_date) AS DATE)\")).select(\"subscription_id\", \"event_id\", \"event_type\", \"amount\", \"event_date\")\n",
    "subscriptions = spark.read.format(\"csv\").option(\"header\", \"true\").option(\"inferSchema\", \"true\").csv(\"/home/iceberg/data/subscriptions.csv\").select(\"subscription_id\", \"customer_id\", \"end_date\", \"plan_id\")\n",
    "customers = spark.read.format(\"csv\").option(\"header\", \"true\").option(\"inferSchema\", \"true\").csv(\"/home/iceberg/data/customers.csv\").select(\"customer_id\", \"name\", \"status\", \"signup_date\", \"country\")"
   ]
  },
  {
   "cell_type": "code",
   "execution_count": null,
   "id": "ef072177-93db-4c8d-b731-3ef319467caf",
   "metadata": {},
   "outputs": [],
   "source": [
    "billing_events.writeTo(\"saas.raw_billing_events\").append()"
   ]
  },
  {
   "cell_type": "code",
   "execution_count": null,
   "id": "aec5c533-c10b-4cb3-a474-ca4992b4479d",
   "metadata": {},
   "outputs": [],
   "source": [
    "subscriptions.writeTo(\"saas.raw_subscriptions\").append()"
   ]
  },
  {
   "cell_type": "code",
   "execution_count": null,
   "id": "41d32ae0-45cb-45ab-b247-8e1e8f360f68",
   "metadata": {},
   "outputs": [],
   "source": [
    "customers.writeTo(\"saas.raw_customers\").append()"
   ]
  },
  {
   "cell_type": "code",
   "execution_count": null,
   "id": "b842746f-f31a-4932-b1f9-58fb25f77f63",
   "metadata": {},
   "outputs": [],
   "source": [
    "%%sql\n",
    "    \n",
    "INSERT OVERWRITE saas.stg_billing_events\n",
    "WITH rn AS (\n",
    "    SELECT *, ROW_NUMBER() OVER (PARTITION BY event_id ORDER BY event_date DESC) as row_num\n",
    "    FROM saas.raw_billing_events \n",
    "    WHERE event_type = 'payment_succeeded'\n",
    ")\n",
    "SELECT * FROM rn WHERE row_num = 1;"
   ]
  },
  {
   "cell_type": "code",
   "execution_count": null,
   "id": "6cb183a6-db25-4184-82ca-45a5ef801073",
   "metadata": {},
   "outputs": [],
   "source": [
    "%%sql\n",
    "\n",
    "INSERT OVERWRITE saas.stg_subscriptions\n",
    "WITH cleaned_and_validated_subscriptions AS (\n",
    "    SELECT * \n",
    "    FROM subscriptions\n",
    "    WHERE subscription_id IS NOT NULL AND customer_id IS NOT NULL AND plan_id IS NOT NULL\n",
    ")\n",
    "SELECT * \n",
    "FROM cleaned_and_validated_subscriptions;"
   ]
  },
  {
   "cell_type": "code",
   "execution_count": null,
   "id": "02547d95-f92c-468c-8f3f-68e116412b54",
   "metadata": {},
   "outputs": [],
   "source": [
    "%%sql\n",
    "\n",
    "INSERT OVERWRITE saas.stg_subscriptions\n",
    "WITH cleaned_and_validated_subscriptions AS (\n",
    "    SELECT * \n",
    "    FROM subscriptions\n",
    "    WHERE subscription_id IS NOT NULL AND customer_id IS NOT NULL AND plan_id IS NOT NULL\n",
    ")\n",
    "SELECT * \n",
    "FROM cleaned_and_validated_subscriptions;"
   ]
  },
  {
   "cell_type": "code",
   "execution_count": null,
   "id": "b6a33dd6-687e-42bc-9c0e-5513043677b6",
   "metadata": {},
   "outputs": [],
   "source": []
  },
  {
   "cell_type": "code",
   "execution_count": null,
   "id": "270f00be-7009-47cb-8840-ddb9cee1b0dc",
   "metadata": {},
   "outputs": [],
   "source": []
  }
 ],
 "metadata": {
  "kernelspec": {
   "display_name": "Python 3 (ipykernel)",
   "language": "python",
   "name": "python3"
  },
  "language_info": {
   "codemirror_mode": {
    "name": "ipython",
    "version": 3
   },
   "file_extension": ".py",
   "mimetype": "text/x-python",
   "name": "python",
   "nbconvert_exporter": "python",
   "pygments_lexer": "ipython3",
   "version": "3.10.16"
  }
 },
 "nbformat": 4,
 "nbformat_minor": 5
}
